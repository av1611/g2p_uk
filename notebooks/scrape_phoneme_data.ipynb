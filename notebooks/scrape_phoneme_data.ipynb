{
 "cells": [
  {
   "cell_type": "code",
   "execution_count": 1,
   "metadata": {},
   "outputs": [],
   "source": [
    "import re\n",
    "import os\n",
    "import json\n",
    "import gzip\n",
    "import requests\n",
    "import random\n",
    "import logging\n",
    "\n",
    "import pandas as pd\n",
    "import numpy as np\n",
    "\n",
    "from bs4 import BeautifulSoup\n",
    "from copy import deepcopy\n",
    "from time import sleep\n",
    "from tqdm import tqdm\n",
    "from tqdm.contrib.concurrent import process_map"
   ]
  },
  {
   "cell_type": "code",
   "execution_count": 2,
   "metadata": {},
   "outputs": [],
   "source": [
    "proxy_list_url = 'https://www.ip-adress.com/proxy-list'"
   ]
  },
  {
   "cell_type": "code",
   "execution_count": 3,
   "metadata": {},
   "outputs": [],
   "source": [
    "proxy_df = pd.read_html(proxy_list_url, skiprows=0)[0]"
   ]
  },
  {
   "cell_type": "code",
   "execution_count": 4,
   "metadata": {},
   "outputs": [
    {
     "data": {
      "text/html": [
       "<div>\n",
       "<style scoped>\n",
       "    .dataframe tbody tr th:only-of-type {\n",
       "        vertical-align: middle;\n",
       "    }\n",
       "\n",
       "    .dataframe tbody tr th {\n",
       "        vertical-align: top;\n",
       "    }\n",
       "\n",
       "    .dataframe thead th {\n",
       "        text-align: right;\n",
       "    }\n",
       "</style>\n",
       "<table border=\"1\" class=\"dataframe\">\n",
       "  <thead>\n",
       "    <tr style=\"text-align: right;\">\n",
       "      <th></th>\n",
       "      <th>Proxy</th>\n",
       "      <th>Type</th>\n",
       "      <th>Country</th>\n",
       "      <th>Last Checked</th>\n",
       "    </tr>\n",
       "  </thead>\n",
       "  <tbody>\n",
       "    <tr>\n",
       "      <th>0</th>\n",
       "      <td>52.179.18.244:8080</td>\n",
       "      <td>transparent</td>\n",
       "      <td>United States</td>\n",
       "      <td>47 minutes ago</td>\n",
       "    </tr>\n",
       "    <tr>\n",
       "      <th>1</th>\n",
       "      <td>161.117.251.194:80</td>\n",
       "      <td>highly-anonymous</td>\n",
       "      <td>Singapore</td>\n",
       "      <td>57 minutes ago</td>\n",
       "    </tr>\n",
       "    <tr>\n",
       "      <th>2</th>\n",
       "      <td>195.123.212.199:44394</td>\n",
       "      <td>highly-anonymous</td>\n",
       "      <td>Latvia</td>\n",
       "      <td>6 hours ago</td>\n",
       "    </tr>\n",
       "    <tr>\n",
       "      <th>3</th>\n",
       "      <td>34.125.187.121:3128</td>\n",
       "      <td>transparent</td>\n",
       "      <td>United States</td>\n",
       "      <td>15 hours ago</td>\n",
       "    </tr>\n",
       "    <tr>\n",
       "      <th>4</th>\n",
       "      <td>181.118.167.104:80</td>\n",
       "      <td>highly-anonymous</td>\n",
       "      <td>Chile</td>\n",
       "      <td>24 hours ago</td>\n",
       "    </tr>\n",
       "  </tbody>\n",
       "</table>\n",
       "</div>"
      ],
      "text/plain": [
       "                   Proxy              Type        Country    Last Checked\n",
       "0     52.179.18.244:8080       transparent  United States  47 minutes ago\n",
       "1     161.117.251.194:80  highly-anonymous      Singapore  57 minutes ago\n",
       "2  195.123.212.199:44394  highly-anonymous         Latvia     6 hours ago\n",
       "3    34.125.187.121:3128       transparent  United States    15 hours ago\n",
       "4     181.118.167.104:80  highly-anonymous          Chile    24 hours ago"
      ]
     },
     "execution_count": 4,
     "metadata": {},
     "output_type": "execute_result"
    }
   ],
   "source": [
    "proxy_df.head()"
   ]
  },
  {
   "cell_type": "code",
   "execution_count": 5,
   "metadata": {},
   "outputs": [],
   "source": [
    "proxy_list = proxy_df['Proxy'].values"
   ]
  },
  {
   "cell_type": "code",
   "execution_count": 6,
   "metadata": {},
   "outputs": [],
   "source": [
    "def get_url_content(url, proxy=[]):\n",
    "    if len(proxy) > 0:\n",
    "        proxy_list = list(deepcopy(proxy))\n",
    "        try:\n",
    "            random_proxy_server = np.random.choice(proxy_list)\n",
    "            proxies = {\"http\": f\"http://{random_proxy_server}\"}\n",
    "            return requests.get(url, proxies=proxies, headers={'User-Agent': 'Chrome'}).content\n",
    "        except Exception as e:\n",
    "            logging.warning('Failed to use {} proxy. Trying to use another one.....')\n",
    "            proxy_list.remove(random_proxy_server)\n",
    "            get_url_content(url, proxy=proxy_list)\n",
    "    else:\n",
    "        return requests.get(url, headers={'User-Agent': 'Chrome'}).content"
   ]
  },
  {
   "cell_type": "code",
   "execution_count": 7,
   "metadata": {},
   "outputs": [],
   "source": [
    "goroh_url = \"https://goroh.pp.ua/Транскрипція/{word}\"\n",
    "\n",
    "def parse_goroh(word):\n",
    "    phonemes = ''  \n",
    "\n",
    "    try:\n",
    "        html = get_url_content(goroh_url.format(word=word), proxy=proxy_list)\n",
    "        soup = BeautifulSoup(html)\n",
    "        tags = set(filter(None, [item.string.strip() for item in soup.findAll(\"div\", class_=\"taglist\")[0]]))\n",
    "        if set([\"іменник\", \"прикметник\"]).intersection(tags):\n",
    "            table = soup.findAll(\"table\", class_=\"table\")[0].findAll(\"tr\", class_=\"row\")\n",
    "            table_content = [[cell.contents[0] for cell in row.findAll(\"td\")] for row in table]\n",
    "            cell_content = list(filter(lambda x: x[0] == 'називний', table_content))[0][1]\n",
    "            phonemes = re.findall(r'\\>\\[(.*)\\]\\<\\/span\\>', str(cell_content))[0]\n",
    "        elif set([\"прислівник\", \"дієслово\"]).intersection(tags):\n",
    "            tag_content = soup.findAll(\"div\", class_=\"page__sub-header\")[0]#.findAll('h2')[0]\n",
    "            phonemes = re.findall(r'\\s+\\[(.*)]\\s+', str(tag_content))[0]\n",
    "\n",
    "        return fix_sup(phonemes)\n",
    "    except:\n",
    "        return phonemes\n",
    "\n",
    "    \n",
    "def fix_sup(phonemes):\n",
    "    regex_sups = re.findall(r'\\w<sup>\\w</sup>', phonemes)\n",
    "\n",
    "    for sup in regex_sups:\n",
    "        sup_letters = re.findall(r'(\\w)<sup>(\\w)</sup>', sup)[0]\n",
    "        phonemes = phonemes.replace(sup, \"{%s^%s}\" % sup_letters)\n",
    "    \n",
    "    return phonemes"
   ]
  },
  {
   "cell_type": "code",
   "execution_count": 8,
   "metadata": {},
   "outputs": [
    {
     "data": {
      "text/plain": [
       "'ўж{и^е}ва́т{и^е}'"
      ]
     },
     "execution_count": 8,
     "metadata": {},
     "output_type": "execute_result"
    }
   ],
   "source": [
    "tmp = parse_goroh(\"вживати\")\n",
    "tmp"
   ]
  },
  {
   "cell_type": "code",
   "execution_count": 9,
   "metadata": {},
   "outputs": [],
   "source": [
    "def split_phonemes(phonemes):\n",
    "    res = []\n",
    "    complex_phone = False\n",
    "    phone_candidate = ''\n",
    "\n",
    "    for i, letter in enumerate(phonemes):\n",
    "\n",
    "        if letter == '{':\n",
    "            complex_phone = True\n",
    "            phone_candidate += letter\n",
    "            continue\n",
    "        elif letter == '}':\n",
    "            complex_phone = False\n",
    "            phone_candidate += letter\n",
    "            res.append(phone_candidate)\n",
    "            phone_candidate = ''\n",
    "            continue\n",
    "        # define stressed letter\n",
    "        elif ord(letter) == 769: \n",
    "            res[-1] = res[-1] + letter\n",
    "        # define softed letter\n",
    "        elif ord(letter) in (96, 8217):\n",
    "            res[-1] = res[-1] + \"'\"\n",
    "        # define extended letter\n",
    "        elif ord(letter) == 58:\n",
    "            res[-1] = res[-1] + letter\n",
    "        else:\n",
    "            if complex_phone:\n",
    "                phone_candidate += letter\n",
    "            else:\n",
    "                res.append(letter)\n",
    "    return res"
   ]
  },
  {
   "cell_type": "code",
   "execution_count": 10,
   "metadata": {},
   "outputs": [
    {
     "name": "stdout",
     "output_type": "stream",
     "text": [
      "Number of words in vocabulary: 246391\n",
      "Number of words after filtering short words: 246184\n"
     ]
    }
   ],
   "source": [
    "vocab = []\n",
    "\n",
    "with open('../data/dict_corp_vis.txt', 'r') as dict_file:\n",
    "    for line in dict_file:\n",
    "        if not line.startswith(\" \"):\n",
    "            vocab.append(line)\n",
    "vocab = [word.split()[0] for word in vocab]\n",
    "filtered_vocab = list(filter(lambda x: len(x)>2, vocab))\n",
    "\n",
    "print(f'Number of words in vocabulary: {len(vocab)}')\n",
    "print(f'Number of words after filtering short words: {len(filtered_vocab)}')"
   ]
  },
  {
   "cell_type": "code",
   "execution_count": 11,
   "metadata": {},
   "outputs": [],
   "source": [
    "def gentle_parsing(word):\n",
    "    sleep(0.2)\n",
    "    phonemes = split_phonemes(parse_goroh(word))\n",
    "    return (word, phonemes)"
   ]
  },
  {
   "cell_type": "code",
   "execution_count": 12,
   "metadata": {},
   "outputs": [],
   "source": [
    "batch_size = 1024\n",
    "# num_batches = int(len(filtered_vocab) / batch_size)\n",
    "num_batches = 1"
   ]
  },
  {
   "cell_type": "code",
   "execution_count": 13,
   "metadata": {},
   "outputs": [
    {
     "name": "stderr",
     "output_type": "stream",
     "text": [
      "\r",
      "  0%|          | 0/2 [00:00<?, ?it/s]"
     ]
    },
    {
     "data": {
      "application/vnd.jupyter.widget-view+json": {
       "model_id": "40b8ae006cf94fddbfc789e6f2d243c5",
       "version_major": 2,
       "version_minor": 0
      },
      "text/plain": [
       "HBox(children=(FloatProgress(value=0.0, max=1024.0), HTML(value='')))"
      ]
     },
     "metadata": {},
     "output_type": "display_data"
    },
    {
     "name": "stdout",
     "output_type": "stream",
     "text": [
      "\n"
     ]
    },
    {
     "name": "stderr",
     "output_type": "stream",
     "text": [
      "\r",
      " 50%|█████     | 1/2 [00:40<00:40, 41.00s/it]"
     ]
    },
    {
     "data": {
      "application/vnd.jupyter.widget-view+json": {
       "model_id": "25dac281110f4b509a5aa1028ef2b652",
       "version_major": 2,
       "version_minor": 0
      },
      "text/plain": [
       "HBox(children=(FloatProgress(value=0.0, max=1024.0), HTML(value='')))"
      ]
     },
     "metadata": {},
     "output_type": "display_data"
    },
    {
     "name": "stdout",
     "output_type": "stream",
     "text": [
      "\n"
     ]
    },
    {
     "name": "stderr",
     "output_type": "stream",
     "text": [
      "100%|██████████| 2/2 [01:16<00:00, 38.07s/it]\n"
     ]
    }
   ],
   "source": [
    "parsing_res = []\n",
    "\n",
    "for batch_num in tqdm(range(num_batches+1)):\n",
    "    tmp_res = process_map(gentle_parsing, \n",
    "                          filtered_vocab[batch_size*(batch_num):batch_size*(batch_num+1)], \n",
    "                          max_workers=12)\n",
    "    if len(parsing_res) == 0:\n",
    "        parsing_res = tmp_res\n",
    "    else:\n",
    "        parsing_res.extend(tmp_res)\n",
    "    sleep(5)"
   ]
  },
  {
   "cell_type": "code",
   "execution_count": 14,
   "metadata": {},
   "outputs": [],
   "source": [
    "phone_res = [(word, phones) for word, phones in parsing_res if len(phones) > 0]"
   ]
  },
  {
   "cell_type": "code",
   "execution_count": 15,
   "metadata": {},
   "outputs": [],
   "source": [
    "phone_data = [{\"word\": word, \"phones\": phones} for word, phones in phone_res]"
   ]
  },
  {
   "cell_type": "code",
   "execution_count": 16,
   "metadata": {},
   "outputs": [
    {
     "data": {
      "text/html": [
       "<div>\n",
       "<style scoped>\n",
       "    .dataframe tbody tr th:only-of-type {\n",
       "        vertical-align: middle;\n",
       "    }\n",
       "\n",
       "    .dataframe tbody tr th {\n",
       "        vertical-align: top;\n",
       "    }\n",
       "\n",
       "    .dataframe thead th {\n",
       "        text-align: right;\n",
       "    }\n",
       "</style>\n",
       "<table border=\"1\" class=\"dataframe\">\n",
       "  <thead>\n",
       "    <tr style=\"text-align: right;\">\n",
       "      <th></th>\n",
       "      <th>word</th>\n",
       "      <th>phones</th>\n",
       "    </tr>\n",
       "  </thead>\n",
       "  <tbody>\n",
       "    <tr>\n",
       "      <th>1261</th>\n",
       "      <td>Адамівка</td>\n",
       "      <td>[а, д, а́, м', і, ў, к, а]</td>\n",
       "    </tr>\n",
       "    <tr>\n",
       "      <th>153</th>\n",
       "      <td>абрикосівка</td>\n",
       "      <td>[а, б, р, {и^е}, к, о́, с', і, ў, к, а]</td>\n",
       "    </tr>\n",
       "    <tr>\n",
       "      <th>1332</th>\n",
       "      <td>Аделінин</td>\n",
       "      <td>[а, д, {е^и}, л', і́, н, {и^е}, н]</td>\n",
       "    </tr>\n",
       "    <tr>\n",
       "      <th>250</th>\n",
       "      <td>Абуладзе</td>\n",
       "      <td>[а, б, у, л, а́, {дз}, {е^и}]</td>\n",
       "    </tr>\n",
       "    <tr>\n",
       "      <th>881</th>\n",
       "      <td>авторитарно-бюрократичний</td>\n",
       "      <td>[а, ў, т, о, р, {и^е}, т, а́, р, н, о, б', у, ...</td>\n",
       "    </tr>\n",
       "    <tr>\n",
       "      <th>395</th>\n",
       "      <td>авіазаводський</td>\n",
       "      <td>[а, в', і, а, з, а, в, о, {дз}', к, и́, й]</td>\n",
       "    </tr>\n",
       "    <tr>\n",
       "      <th>751</th>\n",
       "      <td>автометричний</td>\n",
       "      <td>[а, ў, т, о, м, {е^и}, т, р, и́, ч, н, и, й]</td>\n",
       "    </tr>\n",
       "    <tr>\n",
       "      <th>603</th>\n",
       "      <td>автоген</td>\n",
       "      <td>[а, ў, т, о, г, е́, н]</td>\n",
       "    </tr>\n",
       "    <tr>\n",
       "      <th>108</th>\n",
       "      <td>абордувавши</td>\n",
       "      <td>[а, б, о, р, д, у, в, а́, ў, ш, {и^е}]</td>\n",
       "    </tr>\n",
       "    <tr>\n",
       "      <th>1315</th>\n",
       "      <td>адвокатуючи</td>\n",
       "      <td>[а, д, в, о, к, а, т, у́, й, у, ч, {и^е}]</td>\n",
       "    </tr>\n",
       "  </tbody>\n",
       "</table>\n",
       "</div>"
      ],
      "text/plain": [
       "                           word  \\\n",
       "1261                   Адамівка   \n",
       "153                 абрикосівка   \n",
       "1332                   Аделінин   \n",
       "250                    Абуладзе   \n",
       "881   авторитарно-бюрократичний   \n",
       "395              авіазаводський   \n",
       "751               автометричний   \n",
       "603                     автоген   \n",
       "108                 абордувавши   \n",
       "1315                адвокатуючи   \n",
       "\n",
       "                                                 phones  \n",
       "1261                         [а, д, а́, м', і, ў, к, а]  \n",
       "153             [а, б, р, {и^е}, к, о́, с', і, ў, к, а]  \n",
       "1332                 [а, д, {е^и}, л', і́, н, {и^е}, н]  \n",
       "250                       [а, б, у, л, а́, {дз}, {е^и}]  \n",
       "881   [а, ў, т, о, р, {и^е}, т, а́, р, н, о, б', у, ...  \n",
       "395          [а, в', і, а, з, а, в, о, {дз}', к, и́, й]  \n",
       "751        [а, ў, т, о, м, {е^и}, т, р, и́, ч, н, и, й]  \n",
       "603                              [а, ў, т, о, г, е́, н]  \n",
       "108              [а, б, о, р, д, у, в, а́, ў, ш, {и^е}]  \n",
       "1315          [а, д, в, о, к, а, т, у́, й, у, ч, {и^е}]  "
      ]
     },
     "execution_count": 16,
     "metadata": {},
     "output_type": "execute_result"
    }
   ],
   "source": [
    "phone_df = pd.DataFrame(phone_data)\n",
    "\n",
    "phone_df.sample(10)"
   ]
  },
  {
   "cell_type": "code",
   "execution_count": 17,
   "metadata": {},
   "outputs": [
    {
     "name": "stdout",
     "output_type": "stream",
     "text": [
      "[['адрон' list(['а', 'д', 'р', 'о́', 'н'])]]\n"
     ]
    }
   ],
   "source": [
    "print(phone_df.sample(1).values)"
   ]
  },
  {
   "cell_type": "code",
   "execution_count": 18,
   "metadata": {},
   "outputs": [],
   "source": [
    "def json2gzip(data, path):\n",
    "    if not path.endswith(\".json.gz\"):\n",
    "        path += \".json.gz\"\n",
    "    json_str = json.dumps(data) + \"\\n\"\n",
    "    json_bytes = json_str.encode('utf-8')\n",
    "\n",
    "    with gzip.GzipFile(path, 'w') as fout:\n",
    "        fout.write(json_bytes)     \n",
    "\n",
    "def gzip2json(path):\n",
    "    with gzip.GzipFile(path, 'r') as fin:\n",
    "        data = json.loads(fin.read().decode('utf-8'))\n",
    "    return data"
   ]
  },
  {
   "cell_type": "code",
   "execution_count": 19,
   "metadata": {},
   "outputs": [],
   "source": [
    "json2gzip(phone_data, '../data/phone_data.json.gz')"
   ]
  },
  {
   "cell_type": "code",
   "execution_count": 20,
   "metadata": {},
   "outputs": [],
   "source": [
    "phone_data = gzip2json('../data/phone_data.json.gz')"
   ]
  },
  {
   "cell_type": "code",
   "execution_count": 21,
   "metadata": {},
   "outputs": [
    {
     "data": {
      "text/plain": [
       "{'word': 'абеткуючи',\n",
       " 'phones': ['а', 'б', '{е^и}', 'т', 'к', 'у́', 'й', 'у', 'ч', '{и^е}']}"
      ]
     },
     "execution_count": 21,
     "metadata": {},
     "output_type": "execute_result"
    }
   ],
   "source": [
    "phone_data[42]"
   ]
  },
  {
   "cell_type": "code",
   "execution_count": null,
   "metadata": {},
   "outputs": [],
   "source": []
  }
 ],
 "metadata": {
  "kernelspec": {
   "display_name": "Python [conda env:p36] *",
   "language": "python",
   "name": "conda-env-p36-py"
  },
  "language_info": {
   "codemirror_mode": {
    "name": "ipython",
    "version": 3
   },
   "file_extension": ".py",
   "mimetype": "text/x-python",
   "name": "python",
   "nbconvert_exporter": "python",
   "pygments_lexer": "ipython3",
   "version": "3.6.10"
  }
 },
 "nbformat": 4,
 "nbformat_minor": 2
}
