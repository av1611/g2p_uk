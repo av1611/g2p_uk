{
 "cells": [
  {
   "cell_type": "code",
   "execution_count": 1,
   "metadata": {},
   "outputs": [],
   "source": [
    "import os\n",
    "import json\n",
    "import gzip\n",
    "import time\n",
    "import random\n",
    "\n",
    "import pandas as pd\n",
    "import numpy as np\n",
    "import tensorflow as tf\n",
    "import matplotlib.pyplot as plt\n",
    "import matplotlib.ticker as ticker\n",
    "\n",
    "from tqdm import tqdm"
   ]
  },
  {
   "cell_type": "code",
   "execution_count": 2,
   "metadata": {},
   "outputs": [],
   "source": [
    "DATA_PATH = '../data/phone_data.json.gz'\n",
    "RANDOM_SEED = 0"
   ]
  },
  {
   "cell_type": "code",
   "execution_count": 3,
   "metadata": {},
   "outputs": [],
   "source": [
    "%matplotlib inline"
   ]
  },
  {
   "cell_type": "code",
   "execution_count": 4,
   "metadata": {},
   "outputs": [],
   "source": [
    "os.environ['PYTHONHASHSEED'] = str(RANDOM_SEED)\n",
    "os.environ['TF_CUDNN_DETERMINISTIC'] = '1'  # tf 2.0+\n",
    "random.seed(RANDOM_SEED)\n",
    "np.random.seed(RANDOM_SEED)\n",
    "tf.random.set_seed(RANDOM_SEED)"
   ]
  },
  {
   "cell_type": "markdown",
   "metadata": {},
   "source": [
    "### Load data"
   ]
  },
  {
   "cell_type": "code",
   "execution_count": 5,
   "metadata": {},
   "outputs": [],
   "source": [
    "def gzip2json(path):\n",
    "    with gzip.GzipFile(path, 'r') as fin:\n",
    "        data = json.loads(fin.read().decode('utf-8'))\n",
    "    return data"
   ]
  },
  {
   "cell_type": "code",
   "execution_count": 6,
   "metadata": {},
   "outputs": [],
   "source": [
    "data = gzip2json(DATA_PATH)"
   ]
  },
  {
   "cell_type": "markdown",
   "metadata": {},
   "source": [
    "TODO: think about removing dash '-' as it has no phoneme at all"
   ]
  },
  {
   "cell_type": "code",
   "execution_count": 7,
   "metadata": {},
   "outputs": [
    {
     "name": "stderr",
     "output_type": "stream",
     "text": [
      "100%|██████████| 160385/160385 [00:01<00:00, 100821.38it/s]\n"
     ]
    }
   ],
   "source": [
    "words, letters, phones = [], [], []\n",
    "ignored = 0\n",
    "\n",
    "for item in tqdm(data):\n",
    "    word = item['word'].lower()\n",
    "    ltrs = [letter for letter in word]\n",
    "    phns = [phone for phone in item['phones']]\n",
    "    \n",
    "    if any(_ in ' '.join(phns) for _ in ['#', \"#́'\", \"{и^е}'\", \"{о^у}'\", \"о'\", \"ґ'\"]):\n",
    "        ignored += 1\n",
    "        continue\n",
    "    \n",
    "#     if set(['#', \"#́'\", \"{и^е}'\", \"{о^у}'\", \"о'\", \"ґ'\"]).intersection(phns):\n",
    "#         ignored += 1\n",
    "#         continue\n",
    "       \n",
    "    words.append(word)\n",
    "    letters.append(ltrs)\n",
    "    phones.append(phns)\n",
    "\n",
    "data_preprocessed = list(zip(words, letters, phones))"
   ]
  },
  {
   "cell_type": "code",
   "execution_count": 8,
   "metadata": {},
   "outputs": [],
   "source": [
    "data_preprocessed = list(zip(words, letters, phones))"
   ]
  },
  {
   "cell_type": "code",
   "execution_count": 9,
   "metadata": {},
   "outputs": [
    {
     "name": "stdout",
     "output_type": "stream",
     "text": [
      "word:  перепрошений\n",
      "letters:  ['п', 'е', 'р', 'е', 'п', 'р', 'о', 'ш', 'е', 'н', 'и', 'й']\n",
      "phonemes:  ['п', '{е^и}', 'р', '{е^и}', 'п', 'р', 'о́', 'ш', '{е^и}', 'н', 'и', 'й']\n"
     ]
    }
   ],
   "source": [
    "sample = random.choice(data_preprocessed)\n",
    "print(f'word: ', sample[0])\n",
    "print(f'letters: ', sample[1])\n",
    "print(f'phonemes: ', sample[2])"
   ]
  },
  {
   "cell_type": "markdown",
   "metadata": {},
   "source": [
    "### Preprocess"
   ]
  },
  {
   "cell_type": "code",
   "execution_count": 10,
   "metadata": {},
   "outputs": [],
   "source": [
    "from sklearn.model_selection import train_test_split"
   ]
  },
  {
   "cell_type": "code",
   "execution_count": 11,
   "metadata": {},
   "outputs": [],
   "source": [
    "def flatten(array):\n",
    "    for item in array:\n",
    "        if isinstance(item, list):\n",
    "            yield from flatten(item)\n",
    "        else:\n",
    "            yield item"
   ]
  },
  {
   "cell_type": "code",
   "execution_count": 12,
   "metadata": {},
   "outputs": [],
   "source": [
    "class SequenceTokenizer:\n",
    "    \n",
    "    def __init__(self):\n",
    "        self.word2index = {}\n",
    "        self.index2word = {}\n",
    "        self.oov_token ='<UNK>'\n",
    "        self.oov_token_index = 0\n",
    "        \n",
    "    def fit(self, sequence):\n",
    "        self.index2word = dict(enumerate([self.oov_token] + sorted(set(flatten(sequence))), 1))\n",
    "        self.word2index = {v:k for k,v in self.index2word.items()}\n",
    "        self.oov_token_index = self.word2index.get(self.oov_token)\n",
    "        return self\n",
    "    \n",
    "    def transform(self, X):\n",
    "        res = []\n",
    "        for line in X:\n",
    "            res.append([self.word2index.get(item, self.oov_token_index) for item in line])\n",
    "        return res"
   ]
  },
  {
   "cell_type": "code",
   "execution_count": 13,
   "metadata": {},
   "outputs": [],
   "source": [
    "def pad_sequence(x, max_len=None):\n",
    "    return tf.keras.preprocessing.sequence.pad_sequences(x, \n",
    "                                                         padding='post',\n",
    "                                                         maxlen=max_len)"
   ]
  },
  {
   "cell_type": "code",
   "execution_count": 14,
   "metadata": {},
   "outputs": [],
   "source": [
    "def add_sep_tokens(x):\n",
    "    return ['<start>'] + x + ['<end>']"
   ]
  },
  {
   "cell_type": "code",
   "execution_count": 15,
   "metadata": {},
   "outputs": [],
   "source": [
    "input_sequences = list(map(add_sep_tokens, letters))\n",
    "target_sequences = list(map(add_sep_tokens, phones))"
   ]
  },
  {
   "cell_type": "code",
   "execution_count": 16,
   "metadata": {},
   "outputs": [
    {
     "name": "stdout",
     "output_type": "stream",
     "text": [
      "35 33\n"
     ]
    }
   ],
   "source": [
    "max_len_encoder = max(map(lambda x: len(x), input_sequences))\n",
    "max_len_decoder = max(map(lambda x: len(x), target_sequences))\n",
    "print(max_len_encoder, max_len_decoder)"
   ]
  },
  {
   "cell_type": "code",
   "execution_count": 17,
   "metadata": {},
   "outputs": [],
   "source": [
    "tokenizer_encode = SequenceTokenizer().fit(input_sequences)\n",
    "tokenizer_decode = SequenceTokenizer().fit(target_sequences)"
   ]
  },
  {
   "cell_type": "code",
   "execution_count": 18,
   "metadata": {},
   "outputs": [
    {
     "data": {
      "text/plain": [
       "{'<UNK>': 1,\n",
       " '<end>': 2,\n",
       " '<start>': 3,\n",
       " '{дж}': 4,\n",
       " \"{дж}'\": 5,\n",
       " '{дз}': 6,\n",
       " \"{дз}'\": 7,\n",
       " '{е^и}': 8,\n",
       " '{е^і}': 9,\n",
       " '{и^е}': 10,\n",
       " '{о^у}': 11,\n",
       " 'а': 12,\n",
       " 'а́': 13,\n",
       " 'б': 14,\n",
       " \"б'\": 15,\n",
       " \"б':\": 16,\n",
       " 'б:': 17,\n",
       " 'в': 18,\n",
       " \"в'\": 19,\n",
       " 'г': 20,\n",
       " \"г'\": 21,\n",
       " 'г:': 22,\n",
       " 'д': 23,\n",
       " \"д'\": 24,\n",
       " \"д':\": 25,\n",
       " 'д:': 26,\n",
       " 'е': 27,\n",
       " 'е́': 28,\n",
       " 'ж': 29,\n",
       " \"ж'\": 30,\n",
       " \"ж':\": 31,\n",
       " 'ж:': 32,\n",
       " 'з': 33,\n",
       " \"з'\": 34,\n",
       " \"з':\": 35,\n",
       " 'з:': 36,\n",
       " 'и': 37,\n",
       " 'и́': 38,\n",
       " 'й': 39,\n",
       " \"й'\": 40,\n",
       " 'к': 41,\n",
       " \"к'\": 42,\n",
       " \"к':\": 43,\n",
       " 'к:': 44,\n",
       " 'л': 45,\n",
       " \"л'\": 46,\n",
       " \"л':\": 47,\n",
       " 'л:': 48,\n",
       " 'м': 49,\n",
       " \"м'\": 50,\n",
       " \"м':\": 51,\n",
       " 'м:': 52,\n",
       " 'н': 53,\n",
       " \"н'\": 54,\n",
       " \"н':\": 55,\n",
       " 'н:': 56,\n",
       " 'о': 57,\n",
       " 'о́': 58,\n",
       " \"о́'\": 59,\n",
       " 'п': 60,\n",
       " \"п'\": 61,\n",
       " \"п':\": 62,\n",
       " 'п:': 63,\n",
       " 'р': 64,\n",
       " \"р'\": 65,\n",
       " \"р':\": 66,\n",
       " 'р:': 67,\n",
       " 'с': 68,\n",
       " \"с'\": 69,\n",
       " \"с':\": 70,\n",
       " 'с:': 71,\n",
       " \"с:'\": 72,\n",
       " 'т': 73,\n",
       " \"т'\": 74,\n",
       " \"т':\": 75,\n",
       " 'т:': 76,\n",
       " 'у': 77,\n",
       " 'у́': 78,\n",
       " 'ф': 79,\n",
       " \"ф'\": 80,\n",
       " \"ф':\": 81,\n",
       " 'ф:': 82,\n",
       " 'х': 83,\n",
       " \"х'\": 84,\n",
       " 'х:': 85,\n",
       " 'ц': 86,\n",
       " \"ц'\": 87,\n",
       " \"ц':\": 88,\n",
       " 'ц:': 89,\n",
       " 'ч': 90,\n",
       " \"ч'\": 91,\n",
       " \"ч':\": 92,\n",
       " 'ч:': 93,\n",
       " \"ч:'\": 94,\n",
       " 'ш': 95,\n",
       " \"ш'\": 96,\n",
       " \"ш':\": 97,\n",
       " 'ш:': 98,\n",
       " 'і': 99,\n",
       " 'і́': 100,\n",
       " 'ў': 101,\n",
       " 'ґ': 102}"
      ]
     },
     "execution_count": 18,
     "metadata": {},
     "output_type": "execute_result"
    }
   ],
   "source": [
    "tokenizer_decode.word2index"
   ]
  },
  {
   "cell_type": "code",
   "execution_count": 19,
   "metadata": {},
   "outputs": [],
   "source": [
    "X_token = tokenizer_encode.transform(input_sequences)\n",
    "y_token = tokenizer_decode.transform(target_sequences)"
   ]
  },
  {
   "cell_type": "code",
   "execution_count": 20,
   "metadata": {},
   "outputs": [
    {
     "data": {
      "text/plain": [
       "((160306, 35), (160306, 33))"
      ]
     },
     "execution_count": 20,
     "metadata": {},
     "output_type": "execute_result"
    }
   ],
   "source": [
    "X_padded = pad_sequence(X_token, max_len_encoder)\n",
    "y_padded = pad_sequence(y_token, max_len_decoder)\n",
    "\n",
    "X_padded.shape, y_padded.shape"
   ]
  },
  {
   "cell_type": "code",
   "execution_count": 21,
   "metadata": {},
   "outputs": [],
   "source": [
    "X_train, X_test, y_train, y_test = train_test_split(X_padded, y_padded, test_size=0.05, random_state=RANDOM_SEED)"
   ]
  },
  {
   "cell_type": "code",
   "execution_count": 22,
   "metadata": {},
   "outputs": [
    {
     "data": {
      "text/plain": [
       "((152290, 35), (152290, 33))"
      ]
     },
     "execution_count": 22,
     "metadata": {},
     "output_type": "execute_result"
    }
   ],
   "source": [
    "X_train.shape, y_train.shape"
   ]
  },
  {
   "cell_type": "code",
   "execution_count": 23,
   "metadata": {},
   "outputs": [],
   "source": [
    "# for final validation, with the same seed to make sure that split is the same\n",
    "\n",
    "input_train, input_test, output_train, output_test = train_test_split(\n",
    "    letters, phones, test_size=0.05, random_state=RANDOM_SEED\n",
    ")"
   ]
  },
  {
   "cell_type": "markdown",
   "metadata": {},
   "source": [
    "### Seq2seq with Attention"
   ]
  },
  {
   "cell_type": "markdown",
   "metadata": {},
   "source": [
    "#### tensor data and params"
   ]
  },
  {
   "cell_type": "code",
   "execution_count": 24,
   "metadata": {},
   "outputs": [],
   "source": [
    "BUFFER_SIZE = X_train.shape[0]\n",
    "BUFFER_SIZE_VAL = X_test.shape[0]\n",
    "BATCH_SIZE = 128\n",
    "\n",
    "steps_per_epoch = BUFFER_SIZE // BATCH_SIZE\n",
    "steps_per_epoch_val = BUFFER_SIZE_VAL // BATCH_SIZE\n",
    "\n",
    "embedding_dim = 256\n",
    "units = 1024\n",
    "vocab_size_encode = len(tokenizer_encode.word2index) + 1\n",
    "vocab_size_decode = len(tokenizer_decode.word2index) + 1"
   ]
  },
  {
   "cell_type": "code",
   "execution_count": 25,
   "metadata": {},
   "outputs": [],
   "source": [
    "max_length_input, max_length_output = X_train.shape[1], y_train.shape[1]"
   ]
  },
  {
   "cell_type": "code",
   "execution_count": 26,
   "metadata": {},
   "outputs": [],
   "source": [
    "train_dataset = tf.data.Dataset.from_tensor_slices((X_train, y_train)).shuffle(BUFFER_SIZE)\n",
    "train_dataset = train_dataset.batch(BATCH_SIZE, drop_remainder=True)"
   ]
  },
  {
   "cell_type": "code",
   "execution_count": 27,
   "metadata": {},
   "outputs": [],
   "source": [
    "test_dataset = tf.data.Dataset.from_tensor_slices((X_test, y_test)).shuffle(BUFFER_SIZE)\n",
    "test_dataset = test_dataset.batch(BATCH_SIZE, drop_remainder=True)"
   ]
  },
  {
   "cell_type": "code",
   "execution_count": 28,
   "metadata": {},
   "outputs": [
    {
     "data": {
      "text/plain": [
       "(TensorShape([128, 35]), TensorShape([128, 33]))"
      ]
     },
     "execution_count": 28,
     "metadata": {},
     "output_type": "execute_result"
    }
   ],
   "source": [
    "example_input_batch, example_output_batch = next(iter(train_dataset))\n",
    "example_input_batch.shape, example_output_batch.shape"
   ]
  },
  {
   "cell_type": "markdown",
   "metadata": {},
   "source": [
    "#### define model"
   ]
  },
  {
   "cell_type": "code",
   "execution_count": 29,
   "metadata": {},
   "outputs": [],
   "source": [
    "class Encoder(tf.keras.Model):\n",
    "    def __init__(self, vocab_size, embedding_dim, enc_units, batch_sz):\n",
    "        super(Encoder, self).__init__()\n",
    "        self.batch_sz = batch_sz\n",
    "        self.enc_units = enc_units\n",
    "        self.embedding = tf.keras.layers.Embedding(vocab_size, embedding_dim)\n",
    "        self.gru = tf.keras.layers.GRU(self.enc_units,\n",
    "                                       return_sequences=True,\n",
    "                                       return_state=True,\n",
    "                                       recurrent_initializer='glorot_uniform')\n",
    "\n",
    "    def call(self, x, hidden):\n",
    "        x = self.embedding(x)\n",
    "        output, state = self.gru(x, initial_state = hidden)\n",
    "        return output, state\n",
    "\n",
    "    def initialize_hidden_state(self):\n",
    "        return tf.zeros((self.batch_sz, self.enc_units))\n"
   ]
  },
  {
   "cell_type": "code",
   "execution_count": 30,
   "metadata": {},
   "outputs": [],
   "source": [
    "class BahdanauAttention(tf.keras.layers.Layer):\n",
    "    def __init__(self, units):\n",
    "        super(BahdanauAttention, self).__init__()\n",
    "        self.W1 = tf.keras.layers.Dense(units)\n",
    "        self.W2 = tf.keras.layers.Dense(units)\n",
    "        self.V = tf.keras.layers.Dense(1)\n",
    "\n",
    "    def call(self, query, values):\n",
    "        query_with_time_axis = tf.expand_dims(query, 1)\n",
    "\n",
    "        score = self.V(tf.nn.tanh(\n",
    "            self.W1(query_with_time_axis) + self.W2(values)))\n",
    "\n",
    "        attention_weights = tf.nn.softmax(score, axis=1)\n",
    "\n",
    "        context_vector = attention_weights * values\n",
    "        context_vector = tf.reduce_sum(context_vector, axis=1)\n",
    "\n",
    "        return context_vector, attention_weights"
   ]
  },
  {
   "cell_type": "code",
   "execution_count": 31,
   "metadata": {},
   "outputs": [],
   "source": [
    "class Decoder(tf.keras.Model):\n",
    "    def __init__(self, vocab_size, embedding_dim, dec_units, batch_sz):\n",
    "        super(Decoder, self).__init__()\n",
    "        self.batch_sz = batch_sz\n",
    "        self.dec_units = dec_units\n",
    "        self.embedding = tf.keras.layers.Embedding(vocab_size, embedding_dim)\n",
    "        self.gru = tf.keras.layers.GRU(self.dec_units,\n",
    "                                       return_sequences=True,\n",
    "                                       return_state=True,\n",
    "                                       recurrent_initializer='glorot_uniform')\n",
    "        self.fc = tf.keras.layers.Dense(vocab_size)\n",
    "\n",
    "        # used for attention\n",
    "        self.attention = BahdanauAttention(self.dec_units)\n",
    "\n",
    "    def call(self, x, hidden, enc_output):\n",
    "        context_vector, attention_weights = self.attention(hidden, enc_output)\n",
    "\n",
    "        x = self.embedding(x)\n",
    "\n",
    "        x = tf.concat([tf.expand_dims(context_vector, 1), x], axis=-1)\n",
    "\n",
    "        output, state = self.gru(x)\n",
    "\n",
    "        output = tf.reshape(output, (-1, output.shape[2]))\n",
    "\n",
    "        x = self.fc(output)\n",
    "\n",
    "        return x, state, attention_weights"
   ]
  },
  {
   "cell_type": "code",
   "execution_count": 32,
   "metadata": {},
   "outputs": [
    {
     "name": "stdout",
     "output_type": "stream",
     "text": [
      "Encoder output shape: (batch size, sequence length, units) (128, 35, 1024)\n",
      "Encoder Hidden state shape: (batch size, units) (128, 1024)\n"
     ]
    }
   ],
   "source": [
    "encoder = Encoder(vocab_size_encode, embedding_dim, units, BATCH_SIZE)\n",
    "\n",
    "# sample input\n",
    "sample_hidden = encoder.initialize_hidden_state()\n",
    "sample_output, sample_hidden = encoder(example_input_batch, sample_hidden)\n",
    "print ('Encoder output shape: (batch size, sequence length, units) {}'.format(sample_output.shape))\n",
    "print ('Encoder Hidden state shape: (batch size, units) {}'.format(sample_hidden.shape))"
   ]
  },
  {
   "cell_type": "code",
   "execution_count": 33,
   "metadata": {},
   "outputs": [
    {
     "name": "stdout",
     "output_type": "stream",
     "text": [
      "Attention result shape: (batch size, units) (128, 1024)\n",
      "Attention weights shape: (batch_size, sequence_length, 1) (128, 35, 1)\n"
     ]
    }
   ],
   "source": [
    "attention_layer = BahdanauAttention(10)\n",
    "attention_result, attention_weights = attention_layer(sample_hidden, sample_output)\n",
    "\n",
    "print(\"Attention result shape: (batch size, units) {}\".format(attention_result.shape))\n",
    "print(\"Attention weights shape: (batch_size, sequence_length, 1) {}\".format(attention_weights.shape))"
   ]
  },
  {
   "cell_type": "code",
   "execution_count": 34,
   "metadata": {},
   "outputs": [
    {
     "name": "stdout",
     "output_type": "stream",
     "text": [
      "Decoder output shape: (batch_size, vocab size) (128, 103)\n"
     ]
    }
   ],
   "source": [
    "decoder = Decoder(vocab_size_decode, embedding_dim, units, BATCH_SIZE)\n",
    "\n",
    "sample_decoder_output, _, _ = decoder(tf.random.uniform((BATCH_SIZE, 1)),\n",
    "                                      sample_hidden, sample_output)\n",
    "\n",
    "print ('Decoder output shape: (batch_size, vocab size) {}'.format(sample_decoder_output.shape))"
   ]
  },
  {
   "cell_type": "markdown",
   "metadata": {},
   "source": [
    "#### define optimizer and loss"
   ]
  },
  {
   "cell_type": "code",
   "execution_count": 35,
   "metadata": {},
   "outputs": [],
   "source": [
    "optimizer = tf.keras.optimizers.Adam()"
   ]
  },
  {
   "cell_type": "code",
   "execution_count": 36,
   "metadata": {},
   "outputs": [],
   "source": [
    "loss_object = tf.keras.losses.SparseCategoricalCrossentropy(from_logits=True, reduction='none')\n",
    "\n",
    "def loss_function(real, pred):\n",
    "    mask = tf.math.logical_not(tf.math.equal(real, 0))\n",
    "    loss_ = loss_object(real, pred)\n",
    "\n",
    "    mask = tf.cast(mask, dtype=loss_.dtype)\n",
    "    loss_ *= mask\n",
    "\n",
    "    return tf.reduce_mean(loss_)"
   ]
  },
  {
   "cell_type": "markdown",
   "metadata": {},
   "source": [
    "#### train the model"
   ]
  },
  {
   "cell_type": "code",
   "execution_count": 37,
   "metadata": {},
   "outputs": [],
   "source": [
    "@tf.function\n",
    "def train_step(inp, out, enc_hidden):\n",
    "    loss = 0\n",
    "\n",
    "    with tf.GradientTape() as tape:\n",
    "        enc_output, enc_hidden = encoder(inp, enc_hidden)\n",
    "\n",
    "        dec_hidden = enc_hidden\n",
    "\n",
    "        dec_input = tf.expand_dims([tokenizer_decode.word2index['<start>']] * BATCH_SIZE, 1)\n",
    "\n",
    "        # Teacher forcing - feeding the output as the next input\n",
    "        for t in range(1, out.shape[1]):\n",
    "            # passing enc_output to the decoder\n",
    "            predictions, dec_hidden, _ = decoder(dec_input, dec_hidden, enc_output)\n",
    "            loss += loss_function(out[:, t], predictions)\n",
    "\n",
    "            # using teacher forcing\n",
    "            dec_input = tf.expand_dims(out[:, t], 1)\n",
    "\n",
    "    batch_loss = (loss / int(out.shape[1]))\n",
    "\n",
    "    variables = encoder.trainable_variables + decoder.trainable_variables\n",
    "\n",
    "    gradients = tape.gradient(loss, variables)\n",
    "\n",
    "    optimizer.apply_gradients(zip(gradients, variables))\n",
    "\n",
    "    return batch_loss"
   ]
  },
  {
   "cell_type": "code",
   "execution_count": 38,
   "metadata": {},
   "outputs": [],
   "source": [
    "@tf.function\n",
    "def val_step(inp, out, enc_hidden):\n",
    "    loss = 0\n",
    "\n",
    "    with tf.GradientTape() as tape:\n",
    "        enc_output, enc_hidden = encoder(inp, enc_hidden)\n",
    "\n",
    "        dec_hidden = enc_hidden\n",
    "\n",
    "        dec_input = tf.expand_dims([tokenizer_decode.word2index['<start>']] * BATCH_SIZE, 1)\n",
    "\n",
    "        # Teacher forcing - feeding the output as the next input\n",
    "        for t in range(1, out.shape[1]):\n",
    "            # passing enc_output to the decoder\n",
    "            predictions, dec_hidden, _ = decoder(dec_input, dec_hidden, enc_output)\n",
    "\n",
    "            loss += loss_function(out[:, t], predictions)\n",
    "\n",
    "            # using teacher forcing\n",
    "            dec_input = tf.expand_dims(out[:, t], 1)\n",
    "\n",
    "    batch_loss = (loss / int(out.shape[1]))\n",
    "\n",
    "    return batch_loss"
   ]
  },
  {
   "cell_type": "code",
   "execution_count": 39,
   "metadata": {},
   "outputs": [],
   "source": [
    "checkpoint_dir = '../tf_checkpoints/phones_with_stress'\n",
    "checkpoint_prefix = os.path.join(checkpoint_dir, \"ckpt\")\n",
    "checkpoint = tf.train.Checkpoint(optimizer=optimizer,\n",
    "                                 encoder=encoder,\n",
    "                                 decoder=decoder)"
   ]
  },
  {
   "cell_type": "code",
   "execution_count": 40,
   "metadata": {},
   "outputs": [
    {
     "name": "stdout",
     "output_type": "stream",
     "text": [
      "Epoch 1/20\n",
      "loss: 0.2477\tval_loss: 0.0507\texec_time: 262.44 seconds\n",
      "\n",
      "Epoch 2/20\n",
      "loss: 0.0388\tval_loss: 0.0287\texec_time: 211.11 seconds\n",
      "\n",
      "Epoch 3/20\n",
      "loss: 0.0265\tval_loss: 0.0197\texec_time: 210.51 seconds\n",
      "\n",
      "Epoch 4/20\n",
      "loss: 0.0257\tval_loss: 0.0182\texec_time: 210.37 seconds\n",
      "\n",
      "Epoch 5/20\n",
      "loss: 0.0244\tval_loss: 0.0209\texec_time: 210.68 seconds\n",
      "\n",
      "Epoch 6/20\n",
      "loss: 0.0179\tval_loss: 0.0175\texec_time: 210.61 seconds\n",
      "\n",
      "Epoch 7/20\n",
      "loss: 0.0184\tval_loss: 0.0149\texec_time: 210.44 seconds\n",
      "\n",
      "Epoch 8/20\n",
      "loss: 0.0194\tval_loss: 0.0178\texec_time: 210.33 seconds\n",
      "\n",
      "Epoch 9/20\n",
      "loss: 0.0145\tval_loss: 0.0150\texec_time: 210.27 seconds\n",
      "\n",
      "Epoch 10/20\n",
      "loss: 0.0151\tval_loss: 0.0232\texec_time: 210.61 seconds\n",
      "\n",
      "Epoch 11/20\n",
      "loss: 0.0156\tval_loss: 0.0141\texec_time: 210.75 seconds\n",
      "\n",
      "Epoch 12/20\n",
      "loss: 0.0127\tval_loss: 0.0185\texec_time: 211.06 seconds\n",
      "\n",
      "Epoch 13/20\n",
      "loss: 0.0155\tval_loss: 0.0141\texec_time: 210.66 seconds\n",
      "\n",
      "Epoch 14/20\n",
      "loss: 0.0129\tval_loss: 0.0146\texec_time: 210.58 seconds\n",
      "\n",
      "Epoch 15/20\n",
      "loss: 0.0114\tval_loss: 0.0143\texec_time: 210.46 seconds\n",
      "\n",
      "Epoch 16/20\n",
      "loss: 0.0100\tval_loss: 0.0137\texec_time: 210.51 seconds\n",
      "\n",
      "Epoch 17/20\n",
      "loss: 0.0151\tval_loss: 0.0168\texec_time: 210.48 seconds\n",
      "\n",
      "Epoch 18/20\n",
      "loss: 0.0124\tval_loss: 0.0140\texec_time: 210.32 seconds\n",
      "\n",
      "Epoch 19/20\n",
      "loss: 0.0137\tval_loss: 0.0162\texec_time: 210.50 seconds\n",
      "\n",
      "Epoch 20/20\n",
      "loss: 0.0105\tval_loss: 0.0139\texec_time: 210.54 seconds\n",
      "\n"
     ]
    }
   ],
   "source": [
    "n_epochs = 20\n",
    "history = {}\n",
    "\n",
    "for epoch in range(1, n_epochs+1):\n",
    "    start_time = time.time()\n",
    "\n",
    "    enc_hidden = encoder.initialize_hidden_state()\n",
    "    total_loss = 0\n",
    "    total_val_loss = 0\n",
    "    \n",
    "    print(f\"Epoch {epoch}/{n_epochs}\")\n",
    "    \n",
    "    for (batch, (inp, targ)) in enumerate(train_dataset.take(steps_per_epoch)):\n",
    "        batch_loss = train_step(inp, targ, enc_hidden)\n",
    "        total_loss += batch_loss\n",
    "\n",
    "    for (batch, (inp, targ)) in enumerate(test_dataset.take(steps_per_epoch)):\n",
    "        batch_loss = val_step(inp, targ, enc_hidden)\n",
    "        total_val_loss += batch_loss\n",
    "    \n",
    "    print('loss: {loss:.4f}\\tval_loss: {val_loss:.4f}\\texec_time: {exec_time:.2f} seconds\\n'.format(\n",
    "            loss = total_loss / steps_per_epoch, \n",
    "            val_loss = total_val_loss / steps_per_epoch_val,\n",
    "            exec_time = time.time() - start_time))\n",
    "    \n",
    "    history['train'] = history.get('train', []) + [total_loss.numpy() / steps_per_epoch]\n",
    "    history['val'] = history.get('val', []) + [total_val_loss.numpy() / steps_per_epoch_val]\n",
    "            \n",
    "#     saving (checkpoint) the model every 2 epochs\n",
    "    if (epoch + 1) % 2 == 0:\n",
    "        checkpoint.save(file_prefix = checkpoint_prefix)"
   ]
  },
  {
   "cell_type": "code",
   "execution_count": 41,
   "metadata": {},
   "outputs": [
    {
     "data": {
      "image/png": "[encoded data removed]",
      "text/plain": [
       "<Figure size 432x288 with 1 Axes>"
      ]
     },
     "metadata": {
      "needs_background": "light"
     },
     "output_type": "display_data"
    }
   ],
   "source": [
    "plt.plot(history['train'])\n",
    "plt.plot(history['val'])\n",
    "plt.title('model loss')\n",
    "plt.ylabel('val')\n",
    "plt.xlabel('epoch')\n",
    "plt.legend(['train', 'val'], loc='upper left')\n",
    "plt.show()"
   ]
  },
  {
   "cell_type": "code",
   "execution_count": 42,
   "metadata": {},
   "outputs": [
    {
     "data": {
      "text/plain": [
       "<tensorflow.python.training.tracking.util.CheckpointLoadStatus at 0x7fdec1597ac8>"
      ]
     },
     "execution_count": 42,
     "metadata": {},
     "output_type": "execute_result"
    }
   ],
   "source": [
    "# restoring the latest checkpoint in checkpoint_dir\n",
    "checkpoint.restore(tf.train.latest_checkpoint(checkpoint_dir))"
   ]
  },
  {
   "cell_type": "markdown",
   "metadata": {},
   "source": [
    "#### validate the results"
   ]
  },
  {
   "cell_type": "code",
   "execution_count": 43,
   "metadata": {},
   "outputs": [],
   "source": [
    "def evaluate(word):\n",
    "    \n",
    "    ltrs = add_sep_tokens([letter for letter in word])\n",
    "    \n",
    "    attention_plot = np.zeros((max_length_output, max_length_input))\n",
    "\n",
    "    inputs = tokenizer_encode.transform([ltrs])\n",
    "    inputs = pad_sequence(inputs, max_len=max_len_encoder)\n",
    "    inputs = tf.convert_to_tensor(inputs)\n",
    "\n",
    "    result = ''\n",
    "\n",
    "    hidden = [tf.zeros((1, units))]\n",
    "    enc_out, enc_hidden = encoder(inputs, hidden)\n",
    "\n",
    "    dec_hidden = enc_hidden\n",
    "    dec_input = tf.expand_dims([tokenizer_decode.word2index['<start>']], 0)\n",
    "\n",
    "    for t in range(max_length_output):\n",
    "        predictions, dec_hidden, attention_weights = decoder(dec_input,\n",
    "                                                             dec_hidden,\n",
    "                                                             enc_out)\n",
    "        # storing the attention weights to plot later on\n",
    "        attention_weights = tf.reshape(attention_weights, (-1, ))\n",
    "        attention_plot[t] = attention_weights.numpy()\n",
    "\n",
    "        predicted_id = tf.argmax(predictions[0]).numpy()\n",
    "\n",
    "        result += tokenizer_decode.index2word[predicted_id] + ' '\n",
    "\n",
    "        if tokenizer_decode.index2word[predicted_id] == '<end>':\n",
    "            return result, \" \".join(ltrs), attention_plot\n",
    "\n",
    "        # the predicted ID is fed back into the model\n",
    "        dec_input = tf.expand_dims([predicted_id], 0)\n",
    "\n",
    "    return result, \" \".join(ltrs), attention_plot"
   ]
  },
  {
   "cell_type": "code",
   "execution_count": 48,
   "metadata": {},
   "outputs": [],
   "source": [
    "def plot_attention(attention, sentence, predicted_sentence):\n",
    "    fig = plt.figure(figsize=(10,10))\n",
    "    ax = fig.add_subplot(1, 1, 1)\n",
    "    ax.matshow(attention, cmap='viridis')\n",
    "\n",
    "    fontdict = {'fontsize': 14}\n",
    "\n",
    "    ax.set_xticklabels([''] + sentence, fontdict=fontdict, rotation=90)\n",
    "    ax.set_yticklabels([''] + predicted_sentence, fontdict=fontdict)\n",
    "\n",
    "    ax.xaxis.set_major_locator(ticker.MultipleLocator(1))\n",
    "    ax.yaxis.set_major_locator(ticker.MultipleLocator(1))\n",
    "\n",
    "    plt.show()\n",
    "    \n",
    "\n",
    "def g2p(sentence):\n",
    "    result, sentence, attention_plot = evaluate(sentence)\n",
    "\n",
    "    print('Input: %s' % (sentence))\n",
    "    print('Predicted phonemes: {}'.format(result))\n",
    "\n",
    "    attention_plot = attention_plot[:len(result.split(' ')), :len(sentence.split(' '))]\n",
    "    plot_attention(attention_plot, sentence.split(' '), result.split(' '))"
   ]
  },
  {
   "cell_type": "code",
   "execution_count": 49,
   "metadata": {},
   "outputs": [
    {
     "data": {
      "text/plain": [
       "'а а́ х {е^и} н'"
      ]
     },
     "execution_count": 49,
     "metadata": {},
     "output_type": "execute_result"
    }
   ],
   "source": [
    "evaluate('аахен')[0].replace('<end>', '').strip()"
   ]
  },
  {
   "cell_type": "code",
   "execution_count": 50,
   "metadata": {},
   "outputs": [
    {
     "name": "stdout",
     "output_type": "stream",
     "text": [
      "Input: <start> ч о л о в і к <end>\n",
      "Predicted phonemes: ч о л {о^у} в' і́ к <end> \n"
     ]
    },
    {
     "data": {
      "image/png": "[encoded data removed]",
      "text/plain": [
       "<Figure size 720x720 with 1 Axes>"
      ]
     },
     "metadata": {
      "needs_background": "light"
     },
     "output_type": "display_data"
    }
   ],
   "source": [
    "g2p('чоловік')"
   ]
  },
  {
   "cell_type": "code",
   "execution_count": 51,
   "metadata": {
    "scrolled": false
   },
   "outputs": [
    {
     "name": "stdout",
     "output_type": "stream",
     "text": [
      "Input: <start> а в т е н т и ч н и й <end>\n",
      "Predicted phonemes: а ў т {е^и} н т и́ ч н и й <end> \n"
     ]
    },
    {
     "data": {
      "image/png": "[encoded data removed]",
      "text/plain": [
       "<Figure size 720x720 with 1 Axes>"
      ]
     },
     "metadata": {
      "needs_background": "light"
     },
     "output_type": "display_data"
    }
   ],
   "source": [
    "g2p('автентичний')"
   ]
  },
  {
   "cell_type": "code",
   "execution_count": 52,
   "metadata": {},
   "outputs": [
    {
     "name": "stderr",
     "output_type": "stream",
     "text": [
      "8016it [13:25,  9.95it/s]\n"
     ]
    }
   ],
   "source": [
    "correct_pred = 0\n",
    "incorrect_pred = []\n",
    "total_num = len(input_test)\n",
    "\n",
    "for sample, target in tqdm(zip(input_test, output_test)):\n",
    "    prediction = evaluate(sample)[0].replace('<end>', '').strip()\n",
    "    target = \" \".join(target)\n",
    "    if prediction == target:\n",
    "        correct_pred += 1\n",
    "    else:\n",
    "        incorrect_pred.append((sample, target, prediction))"
   ]
  },
  {
   "cell_type": "code",
   "execution_count": 53,
   "metadata": {},
   "outputs": [
    {
     "name": "stdout",
     "output_type": "stream",
     "text": [
      "Word accuracy (with stress): 82.81 %\n"
     ]
    }
   ],
   "source": [
    "print(f'Word accuracy (with stress): {correct_pred/total_num*100:.2f} %')"
   ]
  },
  {
   "cell_type": "code",
   "execution_count": 54,
   "metadata": {},
   "outputs": [
    {
     "name": "stderr",
     "output_type": "stream",
     "text": [
      "8016it [13:18, 10.04it/s]\n"
     ]
    }
   ],
   "source": [
    "correct_pred1 = 0\n",
    "incorrect_pred1 = []\n",
    "total_num = len(input_test)\n",
    "\n",
    "for sample, target in tqdm(zip(input_test, output_test)):\n",
    "    prediction = evaluate(sample)[0].replace('<end>', '').strip().replace(chr(769), '')\n",
    "    target = \" \".join(target).replace(chr(769), '')\n",
    "    if prediction == target:\n",
    "        correct_pred1 += 1\n",
    "    else:\n",
    "        incorrect_pred1.append((sample, target, prediction))"
   ]
  },
  {
   "cell_type": "code",
   "execution_count": 55,
   "metadata": {},
   "outputs": [
    {
     "name": "stdout",
     "output_type": "stream",
     "text": [
      "Word accuracy (without stress): 89.62 %\n"
     ]
    }
   ],
   "source": [
    "print(f'Word accuracy (without stress): {correct_pred1/total_num*100:.2f} %')"
   ]
  },
  {
   "cell_type": "code",
   "execution_count": null,
   "metadata": {},
   "outputs": [],
   "source": []
  }
 ],
 "metadata": {
  "kernelspec": {
   "display_name": "Environment (conda_tensorflow2_p36)",
   "language": "python",
   "name": "conda_tensorflow2_p36"
  },
  "language_info": {
   "codemirror_mode": {
    "name": "ipython",
    "version": 3
   },
   "file_extension": ".py",
   "mimetype": "text/x-python",
   "name": "python",
   "nbconvert_exporter": "python",
   "pygments_lexer": "ipython3",
   "version": "3.6.10"
  }
 },
 "nbformat": 4,
 "nbformat_minor": 2
}
