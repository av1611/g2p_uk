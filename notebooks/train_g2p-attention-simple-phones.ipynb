{
 "cells": [
  {
   "cell_type": "code",
   "execution_count": 1,
   "metadata": {},
   "outputs": [],
   "source": [
    "import os\n",
    "import json\n",
    "import gzip\n",
    "import time\n",
    "import random\n",
    "\n",
    "import pandas as pd\n",
    "import numpy as np\n",
    "import tensorflow as tf\n",
    "import matplotlib.pyplot as plt\n",
    "import matplotlib.ticker as ticker\n",
    "\n",
    "from tqdm import tqdm"
   ]
  },
  {
   "cell_type": "code",
   "execution_count": 2,
   "metadata": {},
   "outputs": [],
   "source": [
    "DATA_PATH = '../data/phone_data.json.gz'\n",
    "RANDOM_SEED = 0"
   ]
  },
  {
   "cell_type": "code",
   "execution_count": 3,
   "metadata": {},
   "outputs": [],
   "source": [
    "%matplotlib inline"
   ]
  },
  {
   "cell_type": "code",
   "execution_count": 4,
   "metadata": {},
   "outputs": [],
   "source": [
    "os.environ['PYTHONHASHSEED'] = str(RANDOM_SEED)\n",
    "os.environ['TF_CUDNN_DETERMINISTIC'] = '1'  # tf 2.0+\n",
    "random.seed(RANDOM_SEED)\n",
    "np.random.seed(RANDOM_SEED)\n",
    "tf.random.set_seed(RANDOM_SEED)"
   ]
  },
  {
   "cell_type": "markdown",
   "metadata": {},
   "source": [
    "### Load data"
   ]
  },
  {
   "cell_type": "code",
   "execution_count": 5,
   "metadata": {},
   "outputs": [],
   "source": [
    "def gzip2json(path):\n",
    "    with gzip.GzipFile(path, 'r') as fin:\n",
    "        data = json.loads(fin.read().decode('utf-8'))\n",
    "    return data"
   ]
  },
  {
   "cell_type": "code",
   "execution_count": 6,
   "metadata": {},
   "outputs": [],
   "source": [
    "data = gzip2json(DATA_PATH)"
   ]
  },
  {
   "cell_type": "markdown",
   "metadata": {},
   "source": [
    "* chr(769) we are replacing stress near letters\n",
    "\n",
    "TODO: think about removing dash '-' as it has no phoneme at all"
   ]
  },
  {
   "cell_type": "code",
   "execution_count": 7,
   "metadata": {},
   "outputs": [
    {
     "name": "stderr",
     "output_type": "stream",
     "text": [
      "100%|██████████| 160385/160385 [00:02<00:00, 78040.01it/s]\n"
     ]
    }
   ],
   "source": [
    "# ignore stress and x^y phonemes\n",
    "\n",
    "words, letters, phones = [], [], []\n",
    "ignored = 0\n",
    "\n",
    "for item in tqdm(data):\n",
    "    word = item['word'].lower()\n",
    "    \n",
    "    phns = []\n",
    "    for phone in item['phones']:\n",
    "        if chr(769) in phone:\n",
    "            phone = phone.replace(chr(769), '')\n",
    "        if chr(94) in phone:\n",
    "            phone = phone[1]\n",
    "        phns += [phone]\n",
    "\n",
    "    ltrs = [letter for letter in word]\n",
    "        \n",
    "    if set(['#', \"{и^е}'\", \"{о^у}'\", \"о'\", \"ґ'\"]).intersection(phns):\n",
    "        ignored += 1\n",
    "        continue\n",
    "    words.append(word)\n",
    "    letters.append(ltrs)\n",
    "    phones.append(phns)\n",
    "\n",
    "data_preprocessed = list(zip(words, letters, phones))"
   ]
  },
  {
   "cell_type": "code",
   "execution_count": 8,
   "metadata": {},
   "outputs": [],
   "source": [
    "data_preprocessed = list(zip(words, letters, phones))"
   ]
  },
  {
   "cell_type": "code",
   "execution_count": 9,
   "metadata": {},
   "outputs": [
    {
     "name": "stdout",
     "output_type": "stream",
     "text": [
      "word:  перепрофільований\n",
      "letters:  ['п', 'е', 'р', 'е', 'п', 'р', 'о', 'ф', 'і', 'л', 'ь', 'о', 'в', 'а', 'н', 'и', 'й']\n",
      "phonemes:  ['п', 'е', 'р', 'е', 'п', 'р', 'о', \"ф'\", 'і', \"л'\", 'о', 'в', 'а', 'н', 'и', 'й']\n"
     ]
    }
   ],
   "source": [
    "sample = random.choice(data_preprocessed)\n",
    "print(f'word: ', sample[0])\n",
    "print(f'letters: ', sample[1])\n",
    "print(f'phonemes: ', sample[2])"
   ]
  },
  {
   "cell_type": "markdown",
   "metadata": {},
   "source": [
    "### Preprocess"
   ]
  },
  {
   "cell_type": "code",
   "execution_count": 10,
   "metadata": {},
   "outputs": [],
   "source": [
    "from sklearn.model_selection import train_test_split"
   ]
  },
  {
   "cell_type": "code",
   "execution_count": 11,
   "metadata": {},
   "outputs": [],
   "source": [
    "def flatten(array):\n",
    "    for item in array:\n",
    "        if isinstance(item, list):\n",
    "            yield from flatten(item)\n",
    "        else:\n",
    "            yield item"
   ]
  },
  {
   "cell_type": "code",
   "execution_count": 12,
   "metadata": {},
   "outputs": [],
   "source": [
    "class SequenceTokenizer:\n",
    "    \n",
    "    def __init__(self):\n",
    "        self.word2index = {}\n",
    "        self.index2word = {}\n",
    "        self.oov_token ='<UNK>'\n",
    "        self.oov_token_index = 0\n",
    "        \n",
    "    def fit(self, sequence):\n",
    "        self.index2word = dict(enumerate([self.oov_token] + sorted(set(flatten(sequence))), 1))\n",
    "        self.word2index = {v:k for k,v in self.index2word.items()}\n",
    "        self.oov_token_index = self.word2index.get(self.oov_token)\n",
    "        return self\n",
    "    \n",
    "    def transform(self, X):\n",
    "        res = []\n",
    "        for line in X:\n",
    "            res.append([self.word2index.get(item, self.oov_token_index) for item in line])\n",
    "        return res"
   ]
  },
  {
   "cell_type": "code",
   "execution_count": 13,
   "metadata": {},
   "outputs": [],
   "source": [
    "def pad_sequence(x, max_len=None):\n",
    "    return tf.keras.preprocessing.sequence.pad_sequences(x, \n",
    "                                                         padding='post',\n",
    "                                                         maxlen=max_len)"
   ]
  },
  {
   "cell_type": "code",
   "execution_count": 14,
   "metadata": {},
   "outputs": [],
   "source": [
    "def add_sep_tokens(x):\n",
    "    return ['<start>'] + x + ['<end>']"
   ]
  },
  {
   "cell_type": "code",
   "execution_count": 15,
   "metadata": {},
   "outputs": [],
   "source": [
    "input_sequences = list(map(add_sep_tokens, letters))\n",
    "target_sequences = list(map(add_sep_tokens, phones))"
   ]
  },
  {
   "cell_type": "code",
   "execution_count": 16,
   "metadata": {},
   "outputs": [
    {
     "name": "stdout",
     "output_type": "stream",
     "text": [
      "36 33\n"
     ]
    }
   ],
   "source": [
    "max_len_encoder = max(map(lambda x: len(x), input_sequences))\n",
    "max_len_decoder = max(map(lambda x: len(x), target_sequences))\n",
    "print(max_len_encoder, max_len_decoder)"
   ]
  },
  {
   "cell_type": "code",
   "execution_count": 17,
   "metadata": {},
   "outputs": [],
   "source": [
    "tokenizer_encode = SequenceTokenizer().fit(input_sequences)\n",
    "tokenizer_decode = SequenceTokenizer().fit(target_sequences)"
   ]
  },
  {
   "cell_type": "code",
   "execution_count": 18,
   "metadata": {},
   "outputs": [],
   "source": [
    "X_token = tokenizer_encode.transform(input_sequences)\n",
    "y_token = tokenizer_decode.transform(target_sequences)"
   ]
  },
  {
   "cell_type": "code",
   "execution_count": 19,
   "metadata": {},
   "outputs": [
    {
     "data": {
      "text/plain": [
       "((160314, 36), (160314, 33))"
      ]
     },
     "execution_count": 19,
     "metadata": {},
     "output_type": "execute_result"
    }
   ],
   "source": [
    "X_padded = pad_sequence(X_token, max_len_encoder)\n",
    "y_padded = pad_sequence(y_token, max_len_decoder)\n",
    "\n",
    "X_padded.shape, y_padded.shape"
   ]
  },
  {
   "cell_type": "code",
   "execution_count": 20,
   "metadata": {},
   "outputs": [],
   "source": [
    "X_train, X_test, y_train, y_test = train_test_split(X_padded, y_padded, test_size=0.05, random_state=RANDOM_SEED)"
   ]
  },
  {
   "cell_type": "code",
   "execution_count": 21,
   "metadata": {},
   "outputs": [
    {
     "data": {
      "text/plain": [
       "((152298, 36), (152298, 33))"
      ]
     },
     "execution_count": 21,
     "metadata": {},
     "output_type": "execute_result"
    }
   ],
   "source": [
    "X_train.shape, y_train.shape"
   ]
  },
  {
   "cell_type": "code",
   "execution_count": 22,
   "metadata": {},
   "outputs": [],
   "source": [
    "# for final validation, with the same seed to make sure that split is the same\n",
    "\n",
    "input_train, input_test, output_train, output_test = train_test_split(\n",
    "    letters, phones, test_size=0.05, random_state=RANDOM_SEED\n",
    ")"
   ]
  },
  {
   "cell_type": "markdown",
   "metadata": {},
   "source": [
    "### Seq2seq with Attention"
   ]
  },
  {
   "cell_type": "markdown",
   "metadata": {},
   "source": [
    "#### tensor data and params"
   ]
  },
  {
   "cell_type": "code",
   "execution_count": 23,
   "metadata": {},
   "outputs": [],
   "source": [
    "BUFFER_SIZE = X_train.shape[0]\n",
    "BUFFER_SIZE_VAL = X_test.shape[0]\n",
    "BATCH_SIZE = 128\n",
    "\n",
    "steps_per_epoch = BUFFER_SIZE // BATCH_SIZE\n",
    "steps_per_epoch_val = BUFFER_SIZE_VAL // BATCH_SIZE\n",
    "\n",
    "embedding_dim = 256\n",
    "units = 1024\n",
    "vocab_size_encode = len(tokenizer_encode.word2index) + 1\n",
    "vocab_size_decode = len(tokenizer_decode.word2index) + 1"
   ]
  },
  {
   "cell_type": "code",
   "execution_count": 24,
   "metadata": {},
   "outputs": [],
   "source": [
    "max_length_input, max_length_output = X_train.shape[1], y_train.shape[1]"
   ]
  },
  {
   "cell_type": "code",
   "execution_count": 25,
   "metadata": {},
   "outputs": [],
   "source": [
    "train_dataset = tf.data.Dataset.from_tensor_slices((X_train, y_train)).shuffle(BUFFER_SIZE)\n",
    "train_dataset = train_dataset.batch(BATCH_SIZE, drop_remainder=True)"
   ]
  },
  {
   "cell_type": "code",
   "execution_count": 26,
   "metadata": {},
   "outputs": [],
   "source": [
    "test_dataset = tf.data.Dataset.from_tensor_slices((X_test, y_test)).shuffle(BUFFER_SIZE)\n",
    "test_dataset = test_dataset.batch(BATCH_SIZE, drop_remainder=True)"
   ]
  },
  {
   "cell_type": "code",
   "execution_count": 27,
   "metadata": {},
   "outputs": [
    {
     "data": {
      "text/plain": [
       "(TensorShape([128, 36]), TensorShape([128, 33]))"
      ]
     },
     "execution_count": 27,
     "metadata": {},
     "output_type": "execute_result"
    }
   ],
   "source": [
    "example_input_batch, example_output_batch = next(iter(train_dataset))\n",
    "example_input_batch.shape, example_output_batch.shape"
   ]
  },
  {
   "cell_type": "markdown",
   "metadata": {},
   "source": [
    "#### define model"
   ]
  },
  {
   "cell_type": "code",
   "execution_count": 28,
   "metadata": {},
   "outputs": [],
   "source": [
    "class Encoder(tf.keras.Model):\n",
    "    def __init__(self, vocab_size, embedding_dim, enc_units, batch_sz):\n",
    "        super(Encoder, self).__init__()\n",
    "        self.batch_sz = batch_sz\n",
    "        self.enc_units = enc_units\n",
    "        self.embedding = tf.keras.layers.Embedding(vocab_size, embedding_dim)\n",
    "        self.gru = tf.keras.layers.GRU(self.enc_units,\n",
    "                                       return_sequences=True,\n",
    "                                       return_state=True,\n",
    "                                       recurrent_initializer='glorot_uniform')\n",
    "\n",
    "    def call(self, x, hidden):\n",
    "        x = self.embedding(x)\n",
    "        output, state = self.gru(x, initial_state = hidden)\n",
    "        return output, state\n",
    "\n",
    "    def initialize_hidden_state(self):\n",
    "        return tf.zeros((self.batch_sz, self.enc_units))\n"
   ]
  },
  {
   "cell_type": "code",
   "execution_count": 29,
   "metadata": {},
   "outputs": [],
   "source": [
    "class BahdanauAttention(tf.keras.layers.Layer):\n",
    "    def __init__(self, units):\n",
    "        super(BahdanauAttention, self).__init__()\n",
    "        self.W1 = tf.keras.layers.Dense(units)\n",
    "        self.W2 = tf.keras.layers.Dense(units)\n",
    "        self.V = tf.keras.layers.Dense(1)\n",
    "\n",
    "    def call(self, query, values):\n",
    "        query_with_time_axis = tf.expand_dims(query, 1)\n",
    "\n",
    "        score = self.V(tf.nn.tanh(\n",
    "            self.W1(query_with_time_axis) + self.W2(values)))\n",
    "\n",
    "        attention_weights = tf.nn.softmax(score, axis=1)\n",
    "\n",
    "        context_vector = attention_weights * values\n",
    "        context_vector = tf.reduce_sum(context_vector, axis=1)\n",
    "\n",
    "        return context_vector, attention_weights"
   ]
  },
  {
   "cell_type": "code",
   "execution_count": 30,
   "metadata": {},
   "outputs": [],
   "source": [
    "class Decoder(tf.keras.Model):\n",
    "    def __init__(self, vocab_size, embedding_dim, dec_units, batch_sz):\n",
    "        super(Decoder, self).__init__()\n",
    "        self.batch_sz = batch_sz\n",
    "        self.dec_units = dec_units\n",
    "        self.embedding = tf.keras.layers.Embedding(vocab_size, embedding_dim)\n",
    "        self.gru = tf.keras.layers.GRU(self.dec_units,\n",
    "                                       return_sequences=True,\n",
    "                                       return_state=True,\n",
    "                                       recurrent_initializer='glorot_uniform')\n",
    "        self.fc = tf.keras.layers.Dense(vocab_size)\n",
    "\n",
    "        # used for attention\n",
    "        self.attention = BahdanauAttention(self.dec_units)\n",
    "\n",
    "    def call(self, x, hidden, enc_output):\n",
    "        context_vector, attention_weights = self.attention(hidden, enc_output)\n",
    "\n",
    "        x = self.embedding(x)\n",
    "\n",
    "        x = tf.concat([tf.expand_dims(context_vector, 1), x], axis=-1)\n",
    "\n",
    "        output, state = self.gru(x)\n",
    "\n",
    "        output = tf.reshape(output, (-1, output.shape[2]))\n",
    "\n",
    "        x = self.fc(output)\n",
    "\n",
    "        return x, state, attention_weights"
   ]
  },
  {
   "cell_type": "code",
   "execution_count": 31,
   "metadata": {},
   "outputs": [
    {
     "name": "stdout",
     "output_type": "stream",
     "text": [
      "Encoder output shape: (batch size, sequence length, units) (128, 36, 1024)\n",
      "Encoder Hidden state shape: (batch size, units) (128, 1024)\n"
     ]
    }
   ],
   "source": [
    "encoder = Encoder(vocab_size_encode, embedding_dim, units, BATCH_SIZE)\n",
    "\n",
    "# sample input\n",
    "sample_hidden = encoder.initialize_hidden_state()\n",
    "sample_output, sample_hidden = encoder(example_input_batch, sample_hidden)\n",
    "print ('Encoder output shape: (batch size, sequence length, units) {}'.format(sample_output.shape))\n",
    "print ('Encoder Hidden state shape: (batch size, units) {}'.format(sample_hidden.shape))"
   ]
  },
  {
   "cell_type": "code",
   "execution_count": 32,
   "metadata": {},
   "outputs": [
    {
     "name": "stdout",
     "output_type": "stream",
     "text": [
      "Attention result shape: (batch size, units) (128, 1024)\n",
      "Attention weights shape: (batch_size, sequence_length, 1) (128, 36, 1)\n"
     ]
    }
   ],
   "source": [
    "attention_layer = BahdanauAttention(10)\n",
    "attention_result, attention_weights = attention_layer(sample_hidden, sample_output)\n",
    "\n",
    "print(\"Attention result shape: (batch size, units) {}\".format(attention_result.shape))\n",
    "print(\"Attention weights shape: (batch_size, sequence_length, 1) {}\".format(attention_weights.shape))"
   ]
  },
  {
   "cell_type": "code",
   "execution_count": 33,
   "metadata": {},
   "outputs": [
    {
     "name": "stdout",
     "output_type": "stream",
     "text": [
      "Decoder output shape: (batch_size, vocab size) (128, 92)\n"
     ]
    }
   ],
   "source": [
    "decoder = Decoder(vocab_size_decode, embedding_dim, units, BATCH_SIZE)\n",
    "\n",
    "sample_decoder_output, _, _ = decoder(tf.random.uniform((BATCH_SIZE, 1)),\n",
    "                                      sample_hidden, sample_output)\n",
    "\n",
    "print ('Decoder output shape: (batch_size, vocab size) {}'.format(sample_decoder_output.shape))"
   ]
  },
  {
   "cell_type": "markdown",
   "metadata": {},
   "source": [
    "#### define optimizer and loss"
   ]
  },
  {
   "cell_type": "code",
   "execution_count": 34,
   "metadata": {},
   "outputs": [],
   "source": [
    "optimizer = tf.keras.optimizers.Adam()"
   ]
  },
  {
   "cell_type": "code",
   "execution_count": 35,
   "metadata": {},
   "outputs": [],
   "source": [
    "loss_object = tf.keras.losses.SparseCategoricalCrossentropy(from_logits=True, reduction='none')\n",
    "\n",
    "def loss_function(real, pred):\n",
    "    mask = tf.math.logical_not(tf.math.equal(real, 0))\n",
    "    loss_ = loss_object(real, pred)\n",
    "\n",
    "    mask = tf.cast(mask, dtype=loss_.dtype)\n",
    "    loss_ *= mask\n",
    "\n",
    "    return tf.reduce_mean(loss_)"
   ]
  },
  {
   "cell_type": "markdown",
   "metadata": {},
   "source": [
    "#### train the model"
   ]
  },
  {
   "cell_type": "code",
   "execution_count": 36,
   "metadata": {},
   "outputs": [],
   "source": [
    "@tf.function\n",
    "def train_step(inp, out, enc_hidden):\n",
    "    loss = 0\n",
    "\n",
    "    with tf.GradientTape() as tape:\n",
    "        enc_output, enc_hidden = encoder(inp, enc_hidden)\n",
    "\n",
    "        dec_hidden = enc_hidden\n",
    "\n",
    "        dec_input = tf.expand_dims([tokenizer_decode.word2index['<start>']] * BATCH_SIZE, 1)\n",
    "\n",
    "        # Teacher forcing - feeding the output as the next input\n",
    "        for t in range(1, out.shape[1]):\n",
    "            # passing enc_output to the decoder\n",
    "            predictions, dec_hidden, _ = decoder(dec_input, dec_hidden, enc_output)\n",
    "            loss += loss_function(out[:, t], predictions)\n",
    "\n",
    "            # using teacher forcing\n",
    "            dec_input = tf.expand_dims(out[:, t], 1)\n",
    "\n",
    "    batch_loss = (loss / int(out.shape[1]))\n",
    "\n",
    "    variables = encoder.trainable_variables + decoder.trainable_variables\n",
    "\n",
    "    gradients = tape.gradient(loss, variables)\n",
    "\n",
    "    optimizer.apply_gradients(zip(gradients, variables))\n",
    "\n",
    "    return batch_loss"
   ]
  },
  {
   "cell_type": "code",
   "execution_count": 37,
   "metadata": {},
   "outputs": [],
   "source": [
    "@tf.function\n",
    "def val_step(inp, out, enc_hidden):\n",
    "    loss = 0\n",
    "\n",
    "    with tf.GradientTape() as tape:\n",
    "        enc_output, enc_hidden = encoder(inp, enc_hidden)\n",
    "\n",
    "        dec_hidden = enc_hidden\n",
    "\n",
    "        dec_input = tf.expand_dims([tokenizer_decode.word2index['<start>']] * BATCH_SIZE, 1)\n",
    "\n",
    "        # Teacher forcing - feeding the output as the next input\n",
    "        for t in range(1, out.shape[1]):\n",
    "            # passing enc_output to the decoder\n",
    "            predictions, dec_hidden, _ = decoder(dec_input, dec_hidden, enc_output)\n",
    "\n",
    "            loss += loss_function(out[:, t], predictions)\n",
    "\n",
    "            # using teacher forcing\n",
    "            dec_input = tf.expand_dims(out[:, t], 1)\n",
    "\n",
    "    batch_loss = (loss / int(out.shape[1]))\n",
    "\n",
    "    return batch_loss"
   ]
  },
  {
   "cell_type": "code",
   "execution_count": 38,
   "metadata": {},
   "outputs": [],
   "source": [
    "checkpoint_dir = '../tf_checkpoints/simple_phones'\n",
    "checkpoint_prefix = os.path.join(checkpoint_dir, \"ckpt\")\n",
    "checkpoint = tf.train.Checkpoint(optimizer=optimizer,\n",
    "                                 encoder=encoder,\n",
    "                                 decoder=decoder)"
   ]
  },
  {
   "cell_type": "code",
   "execution_count": 39,
   "metadata": {},
   "outputs": [
    {
     "name": "stdout",
     "output_type": "stream",
     "text": [
      "Epoch 1/20\n",
      "loss: 0.1888\tval_loss: 0.0059\texec_time: 264.64 seconds\n",
      "\n",
      "Epoch 2/20\n",
      "loss: 0.0109\tval_loss: 0.0041\texec_time: 213.50 seconds\n",
      "\n",
      "Epoch 3/20\n",
      "loss: 0.0158\tval_loss: 0.0043\texec_time: 213.43 seconds\n",
      "\n",
      "Epoch 4/20\n",
      "loss: 0.0033\tval_loss: 0.0021\texec_time: 213.46 seconds\n",
      "\n",
      "Epoch 5/20\n",
      "loss: 0.0045\tval_loss: 0.0029\texec_time: 213.46 seconds\n",
      "\n",
      "Epoch 6/20\n",
      "loss: 0.0064\tval_loss: 0.0173\texec_time: 213.36 seconds\n",
      "\n",
      "Epoch 7/20\n",
      "loss: 0.0046\tval_loss: 0.0037\texec_time: 213.38 seconds\n",
      "\n",
      "Epoch 8/20\n",
      "loss: 0.0054\tval_loss: 0.0035\texec_time: 213.37 seconds\n",
      "\n",
      "Epoch 9/20\n",
      "loss: 0.0040\tval_loss: 0.0051\texec_time: 213.44 seconds\n",
      "\n",
      "Epoch 10/20\n",
      "loss: 0.0028\tval_loss: 0.0035\texec_time: 213.52 seconds\n",
      "\n",
      "Epoch 11/20\n",
      "loss: 0.0059\tval_loss: 0.0106\texec_time: 213.48 seconds\n",
      "\n",
      "Epoch 12/20\n",
      "loss: 0.0063\tval_loss: 0.0024\texec_time: 213.43 seconds\n",
      "\n",
      "Epoch 13/20\n",
      "loss: 0.0056\tval_loss: 0.0049\texec_time: 213.38 seconds\n",
      "\n",
      "Epoch 14/20\n",
      "loss: 0.0097\tval_loss: 0.0034\texec_time: 213.29 seconds\n",
      "\n",
      "Epoch 15/20\n",
      "loss: 0.0033\tval_loss: 0.0039\texec_time: 213.34 seconds\n",
      "\n",
      "Epoch 16/20\n",
      "loss: 0.0068\tval_loss: 0.0042\texec_time: 213.32 seconds\n",
      "\n",
      "Epoch 17/20\n",
      "loss: 0.0032\tval_loss: 0.0018\texec_time: 213.25 seconds\n",
      "\n",
      "Epoch 18/20\n",
      "loss: 0.0047\tval_loss: 0.0110\texec_time: 213.18 seconds\n",
      "\n",
      "Epoch 19/20\n",
      "loss: 0.0034\tval_loss: 0.0052\texec_time: 213.34 seconds\n",
      "\n",
      "Epoch 20/20\n",
      "loss: 0.0067\tval_loss: 0.0034\texec_time: 213.17 seconds\n",
      "\n"
     ]
    }
   ],
   "source": [
    "n_epochs = 20\n",
    "history = {}\n",
    "\n",
    "for epoch in range(1, n_epochs+1):\n",
    "    start_time = time.time()\n",
    "\n",
    "    enc_hidden = encoder.initialize_hidden_state()\n",
    "    total_loss = 0\n",
    "    total_val_loss = 0\n",
    "    \n",
    "    print(f\"Epoch {epoch}/{n_epochs}\")\n",
    "    \n",
    "    for (batch, (inp, targ)) in enumerate(train_dataset.take(steps_per_epoch)):\n",
    "        batch_loss = train_step(inp, targ, enc_hidden)\n",
    "        total_loss += batch_loss\n",
    "\n",
    "    for (batch, (inp, targ)) in enumerate(test_dataset.take(steps_per_epoch)):\n",
    "        batch_loss = val_step(inp, targ, enc_hidden)\n",
    "        total_val_loss += batch_loss\n",
    "    \n",
    "    print('loss: {loss:.4f}\\tval_loss: {val_loss:.4f}\\texec_time: {exec_time:.2f} seconds\\n'.format(\n",
    "            loss = total_loss / steps_per_epoch, \n",
    "            val_loss = total_val_loss / steps_per_epoch_val,\n",
    "            exec_time = time.time() - start_time))\n",
    "    \n",
    "    history['train'] = history.get('train', []) + [total_loss.numpy() / steps_per_epoch]\n",
    "    history['val'] = history.get('val', []) + [total_val_loss.numpy() / steps_per_epoch_val]\n",
    "            \n",
    "#     saving (checkpoint) the model every epoch\n",
    "    checkpoint.save(file_prefix = checkpoint_prefix)"
   ]
  },
  {
   "cell_type": "code",
   "execution_count": 40,
   "metadata": {},
   "outputs": [
    {
     "data": {
      "image/png": "[encoded data removed]",
      "text/plain": [
       "<Figure size 432x288 with 1 Axes>"
      ]
     },
     "metadata": {
      "needs_background": "light"
     },
     "output_type": "display_data"
    }
   ],
   "source": [
    "plt.plot(history['train'])\n",
    "plt.plot(history['val'])\n",
    "plt.title('model loss')\n",
    "plt.ylabel('val')\n",
    "plt.xlabel('epoch')\n",
    "plt.legend(['train', 'val'], loc='upper left')\n",
    "plt.show()"
   ]
  },
  {
   "cell_type": "code",
   "execution_count": 43,
   "metadata": {},
   "outputs": [],
   "source": [
    "# restoring the latest checkpoint in checkpoint_dir\n",
    "# checkpoint.restore(tf.train.latest_checkpoint(checkpoint_dir))"
   ]
  },
  {
   "cell_type": "code",
   "execution_count": 44,
   "metadata": {},
   "outputs": [
    {
     "data": {
      "text/plain": [
       "<tensorflow.python.training.tracking.util.CheckpointLoadStatus at 0x7f3244402ac8>"
      ]
     },
     "execution_count": 44,
     "metadata": {},
     "output_type": "execute_result"
    }
   ],
   "source": [
    "# restoring 17 epoch\n",
    "checkpoint.restore(os.path.join(checkpoint_dir, \"ckpt\") + '-17')"
   ]
  },
  {
   "cell_type": "markdown",
   "metadata": {},
   "source": [
    "#### validate the results"
   ]
  },
  {
   "cell_type": "code",
   "execution_count": 45,
   "metadata": {},
   "outputs": [],
   "source": [
    "def evaluate(word):\n",
    "    \n",
    "    ltrs = add_sep_tokens([letter for letter in word])\n",
    "    \n",
    "    attention_plot = np.zeros((max_length_output, max_length_input))\n",
    "\n",
    "    inputs = tokenizer_encode.transform([ltrs])\n",
    "    inputs = pad_sequence(inputs, max_len=max_len_encoder)\n",
    "    inputs = tf.convert_to_tensor(inputs)\n",
    "\n",
    "    result = ''\n",
    "\n",
    "    hidden = [tf.zeros((1, units))]\n",
    "    enc_out, enc_hidden = encoder(inputs, hidden)\n",
    "\n",
    "    dec_hidden = enc_hidden\n",
    "    dec_input = tf.expand_dims([tokenizer_decode.word2index['<start>']], 0)\n",
    "\n",
    "    for t in range(max_length_output):\n",
    "        predictions, dec_hidden, attention_weights = decoder(dec_input,\n",
    "                                                             dec_hidden,\n",
    "                                                             enc_out)\n",
    "        # storing the attention weights to plot later on\n",
    "        attention_weights = tf.reshape(attention_weights, (-1, ))\n",
    "        attention_plot[t] = attention_weights.numpy()\n",
    "\n",
    "        predicted_id = tf.argmax(predictions[0]).numpy()\n",
    "\n",
    "        result += tokenizer_decode.index2word[predicted_id] + ' '\n",
    "\n",
    "        if tokenizer_decode.index2word[predicted_id] == '<end>':\n",
    "            return result, \" \".join(ltrs), attention_plot\n",
    "\n",
    "        # the predicted ID is fed back into the model\n",
    "        dec_input = tf.expand_dims([predicted_id], 0)\n",
    "\n",
    "    return result, \" \".join(ltrs), attention_plot"
   ]
  },
  {
   "cell_type": "code",
   "execution_count": 46,
   "metadata": {},
   "outputs": [],
   "source": [
    "def plot_attention(attention, sentence, predicted_sentence):\n",
    "    fig = plt.figure(figsize=(10,10))\n",
    "    ax = fig.add_subplot(1, 1, 1)\n",
    "    ax.matshow(attention, cmap='viridis')\n",
    "\n",
    "    fontdict = {'fontsize': 14}\n",
    "\n",
    "    ax.set_xticklabels([''] + sentence, fontdict=fontdict, rotation=90)\n",
    "    ax.set_yticklabels([''] + predicted_sentence, fontdict=fontdict)\n",
    "\n",
    "    ax.xaxis.set_major_locator(ticker.MultipleLocator(1))\n",
    "    ax.yaxis.set_major_locator(ticker.MultipleLocator(1))\n",
    "\n",
    "    plt.show()\n",
    "    \n",
    "\n",
    "def paraphrase(sentence):\n",
    "    result, sentence, attention_plot = evaluate(sentence)\n",
    "\n",
    "    print('Input: %s' % (sentence))\n",
    "    print('Predicted paraphrase: {}'.format(result))\n",
    "\n",
    "    attention_plot = attention_plot[:len(result.split(' ')), :len(sentence.split(' '))]\n",
    "    plot_attention(attention_plot, sentence.split(' '), result.split(' '))"
   ]
  },
  {
   "cell_type": "code",
   "execution_count": 47,
   "metadata": {},
   "outputs": [
    {
     "data": {
      "text/plain": [
       "'а а х е н'"
      ]
     },
     "execution_count": 47,
     "metadata": {},
     "output_type": "execute_result"
    }
   ],
   "source": [
    "evaluate('аахен')[0].replace('<end>', '').strip()"
   ]
  },
  {
   "cell_type": "code",
   "execution_count": 48,
   "metadata": {},
   "outputs": [],
   "source": [
    "def plot_attention(attention, sentence, predicted_sentence):\n",
    "    fig = plt.figure(figsize=(10,10))\n",
    "    ax = fig.add_subplot(1, 1, 1)\n",
    "    ax.matshow(attention, cmap='viridis')\n",
    "\n",
    "    fontdict = {'fontsize': 14}\n",
    "\n",
    "    ax.set_xticklabels([''] + sentence, fontdict=fontdict, rotation=90)\n",
    "    ax.set_yticklabels([''] + predicted_sentence, fontdict=fontdict)\n",
    "\n",
    "    ax.xaxis.set_major_locator(ticker.MultipleLocator(1))\n",
    "    ax.yaxis.set_major_locator(ticker.MultipleLocator(1))\n",
    "\n",
    "    plt.show()"
   ]
  },
  {
   "cell_type": "code",
   "execution_count": 49,
   "metadata": {},
   "outputs": [
    {
     "name": "stdout",
     "output_type": "stream",
     "text": [
      "Input: <start> ч о л о в і к <end>\n",
      "Predicted paraphrase: ч о л о в' і к <end> \n"
     ]
    },
    {
     "data": {
      "image/png": "[encoded data removed]",
      "text/plain": [
       "<Figure size 720x720 with 1 Axes>"
      ]
     },
     "metadata": {
      "needs_background": "light"
     },
     "output_type": "display_data"
    }
   ],
   "source": [
    "paraphrase('чоловік')"
   ]
  },
  {
   "cell_type": "code",
   "execution_count": 50,
   "metadata": {},
   "outputs": [
    {
     "name": "stdout",
     "output_type": "stream",
     "text": [
      "Input: <start> а в т е н т и ч н и й <end>\n",
      "Predicted paraphrase: а ў т е н т и ч н и й <end> \n"
     ]
    },
    {
     "data": {
      "image/png": "[encoded data removed]",
      "text/plain": [
       "<Figure size 720x720 with 1 Axes>"
      ]
     },
     "metadata": {
      "needs_background": "light"
     },
     "output_type": "display_data"
    }
   ],
   "source": [
    "paraphrase('автентичний')"
   ]
  },
  {
   "cell_type": "code",
   "execution_count": 51,
   "metadata": {},
   "outputs": [
    {
     "name": "stderr",
     "output_type": "stream",
     "text": [
      "8016it [13:11, 10.13it/s]\n"
     ]
    }
   ],
   "source": [
    "correct_pred = 0\n",
    "incorrect_pred = []\n",
    "total_num = len(input_test)\n",
    "\n",
    "for sample, target in tqdm(zip(input_test, output_test)):\n",
    "    prediction = evaluate(sample)[0].replace('<end>', '').strip()\n",
    "    target = \" \".join(target)\n",
    "    if prediction == target:\n",
    "        correct_pred += 1\n",
    "    else:\n",
    "        incorrect_pred.append((sample, target, prediction))"
   ]
  },
  {
   "cell_type": "code",
   "execution_count": 52,
   "metadata": {},
   "outputs": [
    {
     "name": "stdout",
     "output_type": "stream",
     "text": [
      "correct prediction acc: 0.99\n"
     ]
    }
   ],
   "source": [
    "print(f'correct prediction acc: {correct_pred/total_num:.2f}')"
   ]
  },
  {
   "cell_type": "code",
   "execution_count": 53,
   "metadata": {},
   "outputs": [
    {
     "data": {
      "text/plain": [
       "98"
      ]
     },
     "execution_count": 53,
     "metadata": {},
     "output_type": "execute_result"
    }
   ],
   "source": [
    "len(incorrect_pred)"
   ]
  },
  {
   "cell_type": "markdown",
   "metadata": {},
   "source": [
    "#### prepare data for kaldi"
   ]
  },
  {
   "cell_type": "code",
   "execution_count": 64,
   "metadata": {},
   "outputs": [],
   "source": [
    "with open('lexicon_prep.txt') as file_:\n",
    "    words = file_.readlines()\n",
    "words = [word.strip() for word in words]"
   ]
  },
  {
   "cell_type": "code",
   "execution_count": 69,
   "metadata": {},
   "outputs": [
    {
     "data": {
      "text/plain": [
       "['позабризкувала',\n",
       " 'виховання',\n",
       " 'затишшя',\n",
       " 'задихавшись',\n",
       " 'одинокий',\n",
       " 'знакомих',\n",
       " 'жалюгідна',\n",
       " 'легкої',\n",
       " 'вмілі',\n",
       " 'наїдуть',\n",
       " 'озвалась',\n",
       " 'спира',\n",
       " 'груні',\n",
       " 'зручніше',\n",
       " 'двохсот',\n",
       " 'ковдри',\n",
       " 'нагріти',\n",
       " 'виколупай',\n",
       " 'потопили',\n",
       " 'відчалила',\n",
       " 'заробітком',\n",
       " 'покривдила',\n",
       " 'рішайся',\n",
       " 'женити',\n",
       " 'одкласти',\n",
       " 'випадковості',\n",
       " 'вчинити',\n",
       " 'променем',\n",
       " 'річ',\n",
       " 'вшкварне',\n",
       " 'отцу',\n",
       " 'викликану',\n",
       " 'готувалися',\n",
       " 'володар',\n",
       " 'гірську',\n",
       " 'чотирма',\n",
       " 'грамотніша',\n",
       " 'случчю',\n",
       " 'перелякалась',\n",
       " 'учень',\n",
       " 'підточує',\n",
       " 'повибивали',\n",
       " 'зупинила',\n",
       " 'звалися',\n",
       " 'стрий',\n",
       " 'переяславський',\n",
       " 'уставив',\n",
       " 'однімав',\n",
       " 'злодійкуватими',\n",
       " 'орищиного',\n",
       " 'гостю',\n",
       " 'хворим',\n",
       " 'найніжніших',\n",
       " 'верховодити',\n",
       " 'неозорими',\n",
       " 'наклонити',\n",
       " 'обробляє',\n",
       " 'портрет',\n",
       " 'престолу',\n",
       " 'царина',\n",
       " 'вибором',\n",
       " 'гнулися',\n",
       " 'непохибності',\n",
       " 'зачата',\n",
       " 'видалась',\n",
       " 'лайок',\n",
       " 'стоптані',\n",
       " 'залишки',\n",
       " 'бієвські',\n",
       " 'упораєшся',\n",
       " 'медведям',\n",
       " 'особливих',\n",
       " 'сажень',\n",
       " 'перейду',\n",
       " 'розщебечеться',\n",
       " 'сміливців',\n",
       " 'бритва',\n",
       " 'місцина',\n",
       " 'темзі',\n",
       " 'боклагом',\n",
       " 'стовбичив',\n",
       " 'путнього',\n",
       " 'позирнула',\n",
       " 'шпалеру',\n",
       " 'справжньої',\n",
       " 'саєти',\n",
       " 'полонинський',\n",
       " 'лободиха',\n",
       " 'жердини',\n",
       " 'витребенькувати',\n",
       " 'волик',\n",
       " 'сердечно',\n",
       " 'передчувати',\n",
       " 'потихо',\n",
       " 'алвішеву',\n",
       " 'посміли',\n",
       " 'фал',\n",
       " 'шпалерів',\n",
       " 'найкращі',\n",
       " 'трясе']"
      ]
     },
     "execution_count": 69,
     "metadata": {},
     "output_type": "execute_result"
    }
   ],
   "source": [
    "words[:100]"
   ]
  },
  {
   "cell_type": "code",
   "execution_count": 85,
   "metadata": {},
   "outputs": [
    {
     "name": "stderr",
     "output_type": "stream",
     "text": [
      "100%|██████████| 72517/72517 [1:38:36<00:00, 12.26it/s]\n"
     ]
    }
   ],
   "source": [
    "res = []\n",
    "\n",
    "for word in tqdm(words):\n",
    "    phn = evaluate(word)[0].replace('<end>', '').strip()\n",
    "    if len(phn.split()) - len(word) > 3:\n",
    "        phn = phn[:2*len(word)]\n",
    "    res.append((word, phn))"
   ]
  },
  {
   "cell_type": "code",
   "execution_count": 86,
   "metadata": {},
   "outputs": [
    {
     "data": {
      "text/plain": [
       "[('позабризкувала', 'п о з а б р и з к у в а л а'),\n",
       " ('виховання', \"в и х о в а н': а\"),\n",
       " ('затишшя', \"з а т и ш': а\"),\n",
       " ('задихавшись', \"з а д и х а ў ш и с' к\"),\n",
       " ('одинокий', 'о д и н о к и й'),\n",
       " ('знакомих', 'з н а к о м и х'),\n",
       " ('жалюгідна', \"ж а л' у г' і д н а\"),\n",
       " ('легкої', 'л е х к о й і'),\n",
       " ('вмілі', \"ў м' і л' і\"),\n",
       " ('наїдуть', \"н а й і д у т'\"),\n",
       " ('озвалась', \"о з в а л а с'\"),\n",
       " ('спира', 'с п и р а'),\n",
       " ('груні', \"г р у н' і\"),\n",
       " ('зручніше', \"з р у ч н' і ш е\"),\n",
       " ('двохсот', 'д в о х с о т'),\n",
       " ('ковдри', 'к о ў д р и'),\n",
       " ('нагріти', \"н а г р' і т и\"),\n",
       " ('виколупай', 'в и к о л у п а й'),\n",
       " ('потопили', 'п о т о п и л и'),\n",
       " ('відчалила', \"в' і {дж} ч а л и л а\"),\n",
       " ('заробітком', \"з а р о б' і т к о м\"),\n",
       " ('покривдила', 'п о к р и ў д и л а'),\n",
       " ('рішайся', \"р' і ш а й с' а\"),\n",
       " ('женити', 'ж е н и т и'),\n",
       " ('одкласти', 'о д к л а с т и'),\n",
       " ('випадковості', \"в и п а д к о в о с' т' і\"),\n",
       " ('вчинити', 'ў ч и н и т и'),\n",
       " ('променем', 'п р о м е н е м'),\n",
       " ('річ', \"р' і ч\"),\n",
       " ('вшкварне', 'ў ш к в а р н е'),\n",
       " ('отцу', 'о ц у'),\n",
       " ('викликану', 'в и к л и к а н у'),\n",
       " ('готувалися', \"г о т у в а л и с' а\"),\n",
       " ('володар', 'в о л о д а р'),\n",
       " ('гірську', \"г' і р с' к у\"),\n",
       " ('чотирма', 'ч о т и р м а'),\n",
       " ('грамотніша', \"г р а м о т' н' і ш а\"),\n",
       " ('случчю', \"с л у ч': у\"),\n",
       " ('перелякалась', \"п е р е л' а к а л а с'\"),\n",
       " ('учень', \"у ч е н'\"),\n",
       " ('підточує', \"п' і д т о ч у й е\"),\n",
       " ('повибивали', 'п о в и б и в а л и'),\n",
       " ('зупинила', 'з у п и н и л а'),\n",
       " ('звалися', \"з в а л и с' а\"),\n",
       " ('стрий', 'с т р и й'),\n",
       " ('переяславський', \"п е р е й а с л а ў с' к и й\"),\n",
       " ('уставив', 'у с т а в и ў'),\n",
       " ('однімав', \"о д' н' і м а ў\"),\n",
       " ('злодійкуватими', \"з л о д' і й к у в а т и м и\"),\n",
       " ('орищиного', 'о р и ш ч и н о г о'),\n",
       " ('гостю', \"г о с' т' у\"),\n",
       " ('хворим', 'х в о р и м'),\n",
       " ('найніжніших', \"н а й н' і ж н' і ш и х\"),\n",
       " ('верховодити', 'в е р х о в о д и т и'),\n",
       " ('неозорими', 'н е о з о р и м и'),\n",
       " ('наклонити', 'н а к л о н и т и'),\n",
       " ('обробляє', \"о б р о б л' а й е\"),\n",
       " ('портрет', 'п о р т р е т'),\n",
       " ('престолу', 'п р е с т о л у'),\n",
       " ('царина', 'ц а р и н а'),\n",
       " ('вибором', 'в и б о р о м'),\n",
       " ('гнулися', \"г н у л и с' а\"),\n",
       " ('непохибності', \"н е п о х и б н о с' т' і\"),\n",
       " ('зачата', 'з а ч а т а'),\n",
       " ('видалась', \"в и д а л а с'\"),\n",
       " ('лайок', 'л а й о к'),\n",
       " ('стоптані', \"с т о п т а н' і\"),\n",
       " ('залишки', 'з а л и ш к и'),\n",
       " ('бієвські', \"б' і й е ў с' к' і\"),\n",
       " ('упораєшся', \"у п о р а й е ш с' а\"),\n",
       " ('медведям', \"м е д в е д' а м\"),\n",
       " ('особливих', 'о с о б л и в и х'),\n",
       " ('сажень', \"с а ж е н'\"),\n",
       " ('перейду', 'п е р е й д у'),\n",
       " ('розщебечеться', \"р о ж ш ч е б е ч е т' с' а\"),\n",
       " ('сміливців', \"с м' і л и ў ц' і ў\"),\n",
       " ('бритва', 'б р и т в а'),\n",
       " ('місцина', \"м' і с ц и н а\"),\n",
       " ('темзі', \"т е м з' і\"),\n",
       " ('боклагом', 'б о к л а г о м'),\n",
       " ('стовбичив', 'с т о ў б и ч и ў'),\n",
       " ('путнього', \"п у т' н' о г о\"),\n",
       " ('позирнула', 'п о з и р н у л а'),\n",
       " ('шпалеру', 'ш п а л е р у'),\n",
       " ('справжньої', \"с п р а ў ж н' о й і\"),\n",
       " ('саєти', 'с а й е т и'),\n",
       " ('полонинський', \"п о л о н и н с' к и й\"),\n",
       " ('лободиха', 'л о б о д и х а'),\n",
       " ('жердини', 'ж е р д и н и'),\n",
       " ('витребенькувати', \"в и т р е б е н' к у в а т и\"),\n",
       " ('волик', 'в о л и к'),\n",
       " ('сердечно', 'с е р д е ч н о'),\n",
       " ('передчувати', 'п е р е {дж} ч у в а т и'),\n",
       " ('потихо', 'п о т и х о'),\n",
       " ('алвішеву', \"а л в' і ш е в у\"),\n",
       " ('посміли', \"п о с м' і л и\"),\n",
       " ('фал', 'ф а л'),\n",
       " ('шпалерів', \"ш п а л е р' і ў\"),\n",
       " ('найкращі', \"н а й к р а ш ч' і\"),\n",
       " ('трясе', \"т р' а с е\")]"
      ]
     },
     "execution_count": 86,
     "metadata": {},
     "output_type": "execute_result"
    }
   ],
   "source": [
    "res[:100]"
   ]
  },
  {
   "cell_type": "code",
   "execution_count": 87,
   "metadata": {},
   "outputs": [
    {
     "name": "stderr",
     "output_type": "stream",
     "text": [
      "100%|██████████| 72517/72517 [00:00<00:00, 643696.84it/s]\n"
     ]
    }
   ],
   "source": [
    "with open('lexicon_prep_out.txt', 'w') as file_:\n",
    "    for k, v in tqdm(res):\n",
    "        file_.write(k + \" \" + v + \"\\n\")"
   ]
  },
  {
   "cell_type": "code",
   "execution_count": null,
   "metadata": {},
   "outputs": [],
   "source": []
  }
 ],
 "metadata": {
  "kernelspec": {
   "display_name": "Environment (conda_tensorflow2_p36)",
   "language": "python",
   "name": "conda_tensorflow2_p36"
  },
  "language_info": {
   "codemirror_mode": {
    "name": "ipython",
    "version": 3
   },
   "file_extension": ".py",
   "mimetype": "text/x-python",
   "name": "python",
   "nbconvert_exporter": "python",
   "pygments_lexer": "ipython3",
   "version": "3.6.10"
  }
 },
 "nbformat": 4,
 "nbformat_minor": 2
}
